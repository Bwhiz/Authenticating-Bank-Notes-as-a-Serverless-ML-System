{
 "cells": [
  {
   "cell_type": "code",
   "execution_count": 26,
   "id": "61fcf511",
   "metadata": {},
   "outputs": [
    {
     "name": "stdout",
     "output_type": "stream",
     "text": [
      "Connection closed.\n",
      "Connected. Call `.close()` to terminate connection gracefully.\n",
      "\n",
      "Logged in to project, explore it here https://c.app.hopsworks.ai:443/p/39062\n",
      "Connected. Call `.close()` to terminate connection gracefully.\n"
     ]
    }
   ],
   "source": [
    "import pandas as pd\n",
    "import hopsworks\n",
    "import joblib\n",
    "import datetime\n",
    "#import dataframe_image as df1\n",
    "from datetime import datetime\n",
    "from sklearn.metrics import confusion_matrix\n",
    "import matplotlib.pyplot as plt\n",
    "import seaborn as sns\n",
    "import os\n",
    "\n",
    "project = hopsworks.login()\n",
    "fs = project.get_feature_store()"
   ]
  },
  {
   "cell_type": "code",
   "execution_count": 27,
   "id": "113a57b8",
   "metadata": {},
   "outputs": [
    {
     "name": "stdout",
     "output_type": "stream",
     "text": [
      "Connected. Call `.close()` to terminate connection gracefully.\n",
      "Downloading file ... "
     ]
    }
   ],
   "source": [
    "mr = project.get_model_registry()\n",
    "model = mr.get_model('bank_note', version=1)\n",
    "model_dir = model.download()\n",
    "model = joblib.load(model_dir + '/bank_note_model.pkl')"
   ]
  },
  {
   "cell_type": "code",
   "execution_count": 28,
   "id": "2a0fdfd9",
   "metadata": {},
   "outputs": [],
   "source": [
    "feature_view = fs.get_feature_view(name='bank_notes_dataframe', version=1)"
   ]
  },
  {
   "cell_type": "code",
   "execution_count": null,
   "id": "41eec683",
   "metadata": {},
   "outputs": [],
   "source": []
  },
  {
   "cell_type": "code",
   "execution_count": 29,
   "id": "b2037f93",
   "metadata": {},
   "outputs": [
    {
     "name": "stderr",
     "output_type": "stream",
     "text": [
      "VersionWarning: No training dataset version was provided to initialise batch scoring . Defaulting to version 1.\n"
     ]
    },
    {
     "name": "stdout",
     "output_type": "stream",
     "text": [
      "2023-05-08 16:25:26,448 INFO: USE `bwhiz_featurestore`\n",
      "2023-05-08 16:25:28,956 INFO: SELECT `fg0`.`variance` `variance`, `fg0`.`skewness` `skewness`, `fg0`.`curtosis` `curtosis`, `fg0`.`entropy` `entropy`\n",
      "FROM `bwhiz_featurestore`.`bank_notes_dataframe_1` `fg0`\n"
     ]
    },
    {
     "name": "stderr",
     "output_type": "stream",
     "text": [
      "UserWarning: pandas only supports SQLAlchemy connectable (engine/connection) or database string URI or sqlite3 DBAPI2 connection. Other DBAPI2 objects are not tested. Please consider using SQLAlchemy.\n"
     ]
    }
   ],
   "source": [
    "batch_data = feature_view.get_batch_data()\n",
    "predictions = model.predict(batch_data)"
   ]
  },
  {
   "cell_type": "code",
   "execution_count": 30,
   "id": "7ec3605e",
   "metadata": {},
   "outputs": [
    {
     "data": {
      "text/plain": [
       "array([1, 1, 1, ..., 0, 0, 0])"
      ]
     },
     "execution_count": 30,
     "metadata": {},
     "output_type": "execute_result"
    }
   ],
   "source": [
    "predictions"
   ]
  },
  {
   "cell_type": "code",
   "execution_count": 31,
   "id": "db081b19",
   "metadata": {
    "scrolled": true
   },
   "outputs": [
    {
     "data": {
      "text/html": [
       "<div>\n",
       "<style scoped>\n",
       "    .dataframe tbody tr th:only-of-type {\n",
       "        vertical-align: middle;\n",
       "    }\n",
       "\n",
       "    .dataframe tbody tr th {\n",
       "        vertical-align: top;\n",
       "    }\n",
       "\n",
       "    .dataframe thead th {\n",
       "        text-align: right;\n",
       "    }\n",
       "</style>\n",
       "<table border=\"1\" class=\"dataframe\">\n",
       "  <thead>\n",
       "    <tr style=\"text-align: right;\">\n",
       "      <th></th>\n",
       "      <th>variance</th>\n",
       "      <th>skewness</th>\n",
       "      <th>curtosis</th>\n",
       "      <th>entropy</th>\n",
       "    </tr>\n",
       "  </thead>\n",
       "  <tbody>\n",
       "    <tr>\n",
       "      <th>0</th>\n",
       "      <td>0.224320</td>\n",
       "      <td>-0.521470</td>\n",
       "      <td>-0.403860</td>\n",
       "      <td>1.201700</td>\n",
       "    </tr>\n",
       "    <tr>\n",
       "      <th>1</th>\n",
       "      <td>-2.298700</td>\n",
       "      <td>-5.227000</td>\n",
       "      <td>5.630000</td>\n",
       "      <td>0.917220</td>\n",
       "    </tr>\n",
       "    <tr>\n",
       "      <th>2</th>\n",
       "      <td>-4.504600</td>\n",
       "      <td>-5.812600</td>\n",
       "      <td>10.886700</td>\n",
       "      <td>-0.528460</td>\n",
       "    </tr>\n",
       "    <tr>\n",
       "      <th>3</th>\n",
       "      <td>3.966300</td>\n",
       "      <td>10.168400</td>\n",
       "      <td>-4.113100</td>\n",
       "      <td>-4.605600</td>\n",
       "    </tr>\n",
       "    <tr>\n",
       "      <th>4</th>\n",
       "      <td>-2.280400</td>\n",
       "      <td>-0.306260</td>\n",
       "      <td>1.334700</td>\n",
       "      <td>1.376300</td>\n",
       "    </tr>\n",
       "    <tr>\n",
       "      <th>...</th>\n",
       "      <td>...</td>\n",
       "      <td>...</td>\n",
       "      <td>...</td>\n",
       "      <td>...</td>\n",
       "    </tr>\n",
       "    <tr>\n",
       "      <th>1356</th>\n",
       "      <td>-1.047577</td>\n",
       "      <td>-5.638628</td>\n",
       "      <td>7.738022</td>\n",
       "      <td>1.519871</td>\n",
       "    </tr>\n",
       "    <tr>\n",
       "      <th>1357</th>\n",
       "      <td>-1.172324</td>\n",
       "      <td>-9.811866</td>\n",
       "      <td>5.027221</td>\n",
       "      <td>-6.114997</td>\n",
       "    </tr>\n",
       "    <tr>\n",
       "      <th>1358</th>\n",
       "      <td>3.353563</td>\n",
       "      <td>-5.234440</td>\n",
       "      <td>7.741583</td>\n",
       "      <td>-5.210451</td>\n",
       "    </tr>\n",
       "    <tr>\n",
       "      <th>1359</th>\n",
       "      <td>0.597557</td>\n",
       "      <td>5.446506</td>\n",
       "      <td>2.656908</td>\n",
       "      <td>1.679064</td>\n",
       "    </tr>\n",
       "    <tr>\n",
       "      <th>1360</th>\n",
       "      <td>1.121676</td>\n",
       "      <td>-7.225372</td>\n",
       "      <td>12.234890</td>\n",
       "      <td>-1.145395</td>\n",
       "    </tr>\n",
       "  </tbody>\n",
       "</table>\n",
       "<p>1361 rows × 4 columns</p>\n",
       "</div>"
      ],
      "text/plain": [
       "      variance   skewness   curtosis   entropy\n",
       "0     0.224320  -0.521470  -0.403860  1.201700\n",
       "1    -2.298700  -5.227000   5.630000  0.917220\n",
       "2    -4.504600  -5.812600  10.886700 -0.528460\n",
       "3     3.966300  10.168400  -4.113100 -4.605600\n",
       "4    -2.280400  -0.306260   1.334700  1.376300\n",
       "...        ...        ...        ...       ...\n",
       "1356 -1.047577  -5.638628   7.738022  1.519871\n",
       "1357 -1.172324  -9.811866   5.027221 -6.114997\n",
       "1358  3.353563  -5.234440   7.741583 -5.210451\n",
       "1359  0.597557   5.446506   2.656908  1.679064\n",
       "1360  1.121676  -7.225372  12.234890 -1.145395\n",
       "\n",
       "[1361 rows x 4 columns]"
      ]
     },
     "execution_count": 31,
     "metadata": {},
     "output_type": "execute_result"
    }
   ],
   "source": [
    "batch_data"
   ]
  },
  {
   "cell_type": "code",
   "execution_count": 32,
   "id": "21c476d7",
   "metadata": {},
   "outputs": [],
   "source": [
    "# prediciton on the last bank note sent :\n",
    "latest_bank_note = predictions[predictions.size - 1]"
   ]
  },
  {
   "cell_type": "code",
   "execution_count": 33,
   "id": "17685adf",
   "metadata": {},
   "outputs": [
    {
     "data": {
      "text/plain": [
       "0"
      ]
     },
     "execution_count": 33,
     "metadata": {},
     "output_type": "execute_result"
    }
   ],
   "source": [
    "latest_bank_note"
   ]
  },
  {
   "cell_type": "code",
   "execution_count": 34,
   "id": "6fd3d643",
   "metadata": {},
   "outputs": [
    {
     "name": "stdout",
     "output_type": "stream",
     "text": [
      "2023-05-08 16:25:43,885 INFO: USE `bwhiz_featurestore`\n",
      "2023-05-08 16:25:44,997 INFO: SELECT `fg0`.`variance` `variance`, `fg0`.`skewness` `skewness`, `fg0`.`curtosis` `curtosis`, `fg0`.`entropy` `entropy`, `fg0`.`output` `output`\n",
      "FROM `bwhiz_featurestore`.`bank_notes_dataframe_1` `fg0`\n"
     ]
    },
    {
     "name": "stderr",
     "output_type": "stream",
     "text": [
      "UserWarning: pandas only supports SQLAlchemy connectable (engine/connection) or database string URI or sqlite3 DBAPI2 connection. Other DBAPI2 objects are not tested. Please consider using SQLAlchemy.\n"
     ]
    },
    {
     "data": {
      "text/html": [
       "<div>\n",
       "<style scoped>\n",
       "    .dataframe tbody tr th:only-of-type {\n",
       "        vertical-align: middle;\n",
       "    }\n",
       "\n",
       "    .dataframe tbody tr th {\n",
       "        vertical-align: top;\n",
       "    }\n",
       "\n",
       "    .dataframe thead th {\n",
       "        text-align: right;\n",
       "    }\n",
       "</style>\n",
       "<table border=\"1\" class=\"dataframe\">\n",
       "  <thead>\n",
       "    <tr style=\"text-align: right;\">\n",
       "      <th></th>\n",
       "      <th>variance</th>\n",
       "      <th>skewness</th>\n",
       "      <th>curtosis</th>\n",
       "      <th>entropy</th>\n",
       "      <th>output</th>\n",
       "    </tr>\n",
       "  </thead>\n",
       "  <tbody>\n",
       "    <tr>\n",
       "      <th>0</th>\n",
       "      <td>0.224320</td>\n",
       "      <td>-0.521470</td>\n",
       "      <td>-0.403860</td>\n",
       "      <td>1.201700</td>\n",
       "      <td>1</td>\n",
       "    </tr>\n",
       "    <tr>\n",
       "      <th>1</th>\n",
       "      <td>-2.298700</td>\n",
       "      <td>-5.227000</td>\n",
       "      <td>5.630000</td>\n",
       "      <td>0.917220</td>\n",
       "      <td>1</td>\n",
       "    </tr>\n",
       "    <tr>\n",
       "      <th>2</th>\n",
       "      <td>-4.504600</td>\n",
       "      <td>-5.812600</td>\n",
       "      <td>10.886700</td>\n",
       "      <td>-0.528460</td>\n",
       "      <td>1</td>\n",
       "    </tr>\n",
       "    <tr>\n",
       "      <th>3</th>\n",
       "      <td>3.966300</td>\n",
       "      <td>10.168400</td>\n",
       "      <td>-4.113100</td>\n",
       "      <td>-4.605600</td>\n",
       "      <td>0</td>\n",
       "    </tr>\n",
       "    <tr>\n",
       "      <th>4</th>\n",
       "      <td>-2.280400</td>\n",
       "      <td>-0.306260</td>\n",
       "      <td>1.334700</td>\n",
       "      <td>1.376300</td>\n",
       "      <td>1</td>\n",
       "    </tr>\n",
       "    <tr>\n",
       "      <th>...</th>\n",
       "      <td>...</td>\n",
       "      <td>...</td>\n",
       "      <td>...</td>\n",
       "      <td>...</td>\n",
       "      <td>...</td>\n",
       "    </tr>\n",
       "    <tr>\n",
       "      <th>1356</th>\n",
       "      <td>-1.047577</td>\n",
       "      <td>-5.638628</td>\n",
       "      <td>7.738022</td>\n",
       "      <td>1.519871</td>\n",
       "      <td>0</td>\n",
       "    </tr>\n",
       "    <tr>\n",
       "      <th>1357</th>\n",
       "      <td>-1.172324</td>\n",
       "      <td>-9.811866</td>\n",
       "      <td>5.027221</td>\n",
       "      <td>-6.114997</td>\n",
       "      <td>0</td>\n",
       "    </tr>\n",
       "    <tr>\n",
       "      <th>1358</th>\n",
       "      <td>3.353563</td>\n",
       "      <td>-5.234440</td>\n",
       "      <td>7.741583</td>\n",
       "      <td>-5.210451</td>\n",
       "      <td>1</td>\n",
       "    </tr>\n",
       "    <tr>\n",
       "      <th>1359</th>\n",
       "      <td>0.597557</td>\n",
       "      <td>5.446506</td>\n",
       "      <td>2.656908</td>\n",
       "      <td>1.679064</td>\n",
       "      <td>0</td>\n",
       "    </tr>\n",
       "    <tr>\n",
       "      <th>1360</th>\n",
       "      <td>1.121676</td>\n",
       "      <td>-7.225372</td>\n",
       "      <td>12.234890</td>\n",
       "      <td>-1.145395</td>\n",
       "      <td>1</td>\n",
       "    </tr>\n",
       "  </tbody>\n",
       "</table>\n",
       "<p>1361 rows × 5 columns</p>\n",
       "</div>"
      ],
      "text/plain": [
       "      variance   skewness   curtosis   entropy  output\n",
       "0     0.224320  -0.521470  -0.403860  1.201700       1\n",
       "1    -2.298700  -5.227000   5.630000  0.917220       1\n",
       "2    -4.504600  -5.812600  10.886700 -0.528460       1\n",
       "3     3.966300  10.168400  -4.113100 -4.605600       0\n",
       "4    -2.280400  -0.306260   1.334700  1.376300       1\n",
       "...        ...        ...        ...       ...     ...\n",
       "1356 -1.047577  -5.638628   7.738022  1.519871       0\n",
       "1357 -1.172324  -9.811866   5.027221 -6.114997       0\n",
       "1358  3.353563  -5.234440   7.741583 -5.210451       1\n",
       "1359  0.597557   5.446506   2.656908  1.679064       0\n",
       "1360  1.121676  -7.225372  12.234890 -1.145395       1\n",
       "\n",
       "[1361 rows x 5 columns]"
      ]
     },
     "execution_count": 34,
     "metadata": {},
     "output_type": "execute_result"
    }
   ],
   "source": [
    "bank_note_fg = fs.get_feature_group(name='bank_notes_dataframe', version=1)\n",
    "df = bank_note_fg.read()\n",
    "df"
   ]
  },
  {
   "cell_type": "code",
   "execution_count": 35,
   "id": "dae2c983",
   "metadata": {},
   "outputs": [
    {
     "data": {
      "text/plain": [
       "1.0"
      ]
     },
     "execution_count": 35,
     "metadata": {},
     "output_type": "execute_result"
    }
   ],
   "source": [
    "### getting the actual label of the last row of data:\n",
    "label = df.iloc[-1]['output']\n",
    "label"
   ]
  },
  {
   "cell_type": "code",
   "execution_count": 36,
   "id": "a08aa8c2",
   "metadata": {},
   "outputs": [],
   "source": [
    "monitor_fg = fs.get_or_create_feature_group(name = 'bank_note_predictions',\n",
    "                                           version = 1,\n",
    "                                           primary_key = ['datetime'],\n",
    "                                           description = 'bank note prediction/output Monitoring')"
   ]
  },
  {
   "cell_type": "code",
   "execution_count": 37,
   "id": "983c029d",
   "metadata": {
    "scrolled": true
   },
   "outputs": [
    {
     "data": {
      "application/vnd.jupyter.widget-view+json": {
       "model_id": "62aaca67689d4e7ab74de0d40ff77700",
       "version_major": 2,
       "version_minor": 0
      },
      "text/plain": [
       "Uploading Dataframe: 0.00% |          | Rows 0/1 | Elapsed Time: 00:00 | Remaining Time: ?"
      ]
     },
     "metadata": {},
     "output_type": "display_data"
    },
    {
     "name": "stdout",
     "output_type": "stream",
     "text": [
      "Launching offline feature group backfill job...\n",
      "Backfill Job started successfully, you can follow the progress at \n",
      "https://c.app.hopsworks.ai/p/39062/jobs/named/bank_note_predictions_1_offline_fg_backfill/executions\n"
     ]
    },
    {
     "data": {
      "text/plain": [
       "(<hsfs.core.job.Job at 0x1f6ffc7cdf0>, None)"
      ]
     },
     "execution_count": 37,
     "metadata": {},
     "output_type": "execute_result"
    }
   ],
   "source": [
    "now = datetime.now().strftime(\"%m/%d/%y, %H:%M:%S\")\n",
    "\n",
    "data = {\n",
    "    'prediction' : [int(latest_bank_note)],\n",
    "    'label' : [label],\n",
    "    'datetime' :[now]\n",
    "}\n",
    "\n",
    "monitor_df = pd.DataFrame(data)\n",
    "monitor_fg.insert(monitor_df)"
   ]
  },
  {
   "cell_type": "code",
   "execution_count": null,
   "id": "50e745ea",
   "metadata": {},
   "outputs": [],
   "source": []
  },
  {
   "cell_type": "code",
   "execution_count": 38,
   "id": "9e3972b8",
   "metadata": {
    "scrolled": true
   },
   "outputs": [
    {
     "name": "stdout",
     "output_type": "stream",
     "text": [
      "2023-05-08 16:27:00,179 INFO: USE `bwhiz_featurestore`\n",
      "2023-05-08 16:27:01,270 INFO: SELECT `fg0`.`prediction` `prediction`, `fg0`.`label` `label`, `fg0`.`datetime` `datetime`\n",
      "FROM `bwhiz_featurestore`.`bank_note_predictions_1` `fg0`\n"
     ]
    },
    {
     "name": "stderr",
     "output_type": "stream",
     "text": [
      "UserWarning: pandas only supports SQLAlchemy connectable (engine/connection) or database string URI or sqlite3 DBAPI2 connection. Other DBAPI2 objects are not tested. Please consider using SQLAlchemy.\n"
     ]
    },
    {
     "data": {
      "text/html": [
       "<div>\n",
       "<style scoped>\n",
       "    .dataframe tbody tr th:only-of-type {\n",
       "        vertical-align: middle;\n",
       "    }\n",
       "\n",
       "    .dataframe tbody tr th {\n",
       "        vertical-align: top;\n",
       "    }\n",
       "\n",
       "    .dataframe thead th {\n",
       "        text-align: right;\n",
       "    }\n",
       "</style>\n",
       "<table border=\"1\" class=\"dataframe\">\n",
       "  <thead>\n",
       "    <tr style=\"text-align: right;\">\n",
       "      <th></th>\n",
       "      <th>prediction</th>\n",
       "      <th>label</th>\n",
       "      <th>datetime</th>\n",
       "    </tr>\n",
       "  </thead>\n",
       "  <tbody>\n",
       "    <tr>\n",
       "      <th>0</th>\n",
       "      <td>1</td>\n",
       "      <td>1.0</td>\n",
       "      <td>05/05/23, 05:44:20</td>\n",
       "    </tr>\n",
       "    <tr>\n",
       "      <th>1</th>\n",
       "      <td>0</td>\n",
       "      <td>1.0</td>\n",
       "      <td>05/05/23, 04:50:20</td>\n",
       "    </tr>\n",
       "    <tr>\n",
       "      <th>2</th>\n",
       "      <td>0</td>\n",
       "      <td>1.0</td>\n",
       "      <td>05/05/23, 04:56:39</td>\n",
       "    </tr>\n",
       "    <tr>\n",
       "      <th>3</th>\n",
       "      <td>1</td>\n",
       "      <td>0.0</td>\n",
       "      <td>05/05/23, 10:09:50</td>\n",
       "    </tr>\n",
       "    <tr>\n",
       "      <th>4</th>\n",
       "      <td>0</td>\n",
       "      <td>1.0</td>\n",
       "      <td>05/05/23, 14:02:05</td>\n",
       "    </tr>\n",
       "    <tr>\n",
       "      <th>5</th>\n",
       "      <td>0</td>\n",
       "      <td>1.0</td>\n",
       "      <td>05/05/23, 15:58:38</td>\n",
       "    </tr>\n",
       "    <tr>\n",
       "      <th>6</th>\n",
       "      <td>1</td>\n",
       "      <td>0.0</td>\n",
       "      <td>05/05/23, 15:16:24</td>\n",
       "    </tr>\n",
       "    <tr>\n",
       "      <th>7</th>\n",
       "      <td>1</td>\n",
       "      <td>0.0</td>\n",
       "      <td>05/05/23, 15:27:12</td>\n",
       "    </tr>\n",
       "    <tr>\n",
       "      <th>8</th>\n",
       "      <td>0</td>\n",
       "      <td>1.0</td>\n",
       "      <td>05/05/23, 15:35:57</td>\n",
       "    </tr>\n",
       "    <tr>\n",
       "      <th>9</th>\n",
       "      <td>0</td>\n",
       "      <td>0.0</td>\n",
       "      <td>05/05/23, 17:29:26</td>\n",
       "    </tr>\n",
       "    <tr>\n",
       "      <th>10</th>\n",
       "      <td>0</td>\n",
       "      <td>1.0</td>\n",
       "      <td>05/08/23, 16:25:50</td>\n",
       "    </tr>\n",
       "  </tbody>\n",
       "</table>\n",
       "</div>"
      ],
      "text/plain": [
       "    prediction  label            datetime\n",
       "0            1    1.0  05/05/23, 05:44:20\n",
       "1            0    1.0  05/05/23, 04:50:20\n",
       "2            0    1.0  05/05/23, 04:56:39\n",
       "3            1    0.0  05/05/23, 10:09:50\n",
       "4            0    1.0  05/05/23, 14:02:05\n",
       "5            0    1.0  05/05/23, 15:58:38\n",
       "6            1    0.0  05/05/23, 15:16:24\n",
       "7            1    0.0  05/05/23, 15:27:12\n",
       "8            0    1.0  05/05/23, 15:35:57\n",
       "9            0    0.0  05/05/23, 17:29:26\n",
       "10           0    1.0  05/08/23, 16:25:50"
      ]
     },
     "execution_count": 38,
     "metadata": {},
     "output_type": "execute_result"
    }
   ],
   "source": [
    "history_df = monitor_fg.read()\n",
    "history_df"
   ]
  },
  {
   "cell_type": "code",
   "execution_count": 39,
   "id": "a4271802",
   "metadata": {},
   "outputs": [],
   "source": [
    "df_recent = history_df.tail(5)"
   ]
  },
  {
   "cell_type": "code",
   "execution_count": 40,
   "id": "6164787b",
   "metadata": {},
   "outputs": [],
   "source": [
    "#df1.export(df_recent, 'assets/df_recent.png') #save an image of the dataframe's last five output"
   ]
  },
  {
   "cell_type": "code",
   "execution_count": null,
   "id": "1c86629c",
   "metadata": {},
   "outputs": [],
   "source": []
  },
  {
   "cell_type": "code",
   "execution_count": 41,
   "id": "a61acb0e",
   "metadata": {},
   "outputs": [
    {
     "name": "stdout",
     "output_type": "stream",
     "text": [
      "[[1 3]\n",
      " [6 1]]\n"
     ]
    }
   ],
   "source": [
    "predictions = history_df['prediction']\n",
    "labels = history_df['label']\n",
    "\n",
    "results = confusion_matrix(labels, predictions)\n",
    "print(results)"
   ]
  },
  {
   "cell_type": "code",
   "execution_count": 42,
   "id": "14709f0f",
   "metadata": {
    "scrolled": true
   },
   "outputs": [],
   "source": [
    "script_dir = os.getcwd()"
   ]
  },
  {
   "cell_type": "code",
   "execution_count": 43,
   "id": "db2bb850",
   "metadata": {},
   "outputs": [],
   "source": [
    "assets_dir = os.path.join(script_dir, '..', 'assets')"
   ]
  },
  {
   "cell_type": "code",
   "execution_count": 44,
   "id": "a88f9d6f",
   "metadata": {},
   "outputs": [
    {
     "data": {
      "text/plain": [
       "'C:\\\\Users\\\\HP\\\\python_folder\\\\serverless-ml-projects\\\\Authenticating-Bank-Notes-as-a-Serverless-ML-System\\\\src\\\\..\\\\assets'"
      ]
     },
     "execution_count": 44,
     "metadata": {},
     "output_type": "execute_result"
    }
   ],
   "source": [
    "assets_dir"
   ]
  },
  {
   "cell_type": "code",
   "execution_count": 45,
   "id": "da8ad624",
   "metadata": {},
   "outputs": [],
   "source": [
    "if not os.path.exists(assets_dir):\n",
    "    os.makedirs(assets_dir)"
   ]
  },
  {
   "cell_type": "code",
   "execution_count": 46,
   "id": "ab7ae808",
   "metadata": {},
   "outputs": [
    {
     "data": {
      "image/png": "[encoded data removed]",
      "text/plain": [
       "<Figure size 640x480 with 1 Axes>"
      ]
     },
     "metadata": {},
     "output_type": "display_data"
    }
   ],
   "source": [
    "try:\n",
    "    if results.shape == (2,2):\n",
    "        cm = sns.heatmap(results, annot=True, fmt='',\n",
    "            linecolor='k',linewidths=1,cmap='Blues',cbar=False)\n",
    "        \n",
    "        fig = cm.get_figure()\n",
    "        fig.savefig(os.path.join(assets_dir, 'confusion_matrix.png'))\n",
    "        results\n",
    "    else:\n",
    "        print('The confusion isnt a square matrix yet , run the feature pipeline with BACKFILL == False')\n",
    "except:\n",
    "    pass"
   ]
  },
  {
   "cell_type": "code",
   "execution_count": null,
   "id": "ec2eb0e2",
   "metadata": {},
   "outputs": [],
   "source": []
  },
  {
   "cell_type": "code",
   "execution_count": null,
   "id": "bbf25727",
   "metadata": {},
   "outputs": [],
   "source": []
  }
 ],
 "metadata": {
  "kernelspec": {
   "display_name": "Python 3 (ipykernel)",
   "language": "python",
   "name": "python3"
  },
  "language_info": {
   "codemirror_mode": {
    "name": "ipython",
    "version": 3
   },
   "file_extension": ".py",
   "mimetype": "text/x-python",
   "name": "python",
   "nbconvert_exporter": "python",
   "pygments_lexer": "ipython3",
   "version": "3.9.0"
  }
 },
 "nbformat": 4,
 "nbformat_minor": 5
}
