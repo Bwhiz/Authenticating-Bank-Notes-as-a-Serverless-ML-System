{
 "cells": [
  {
   "cell_type": "code",
   "execution_count": 1,
   "id": "0b009301",
   "metadata": {},
   "outputs": [
    {
     "name": "stdout",
     "output_type": "stream",
     "text": [
      "Connected. Call `.close()` to terminate connection gracefully.\n",
      "\n",
      "Logged in to project, explore it here https://c.app.hopsworks.ai:443/p/39062\n",
      "Connected. Call `.close()` to terminate connection gracefully.\n"
     ]
    }
   ],
   "source": [
    "import pandas as pd\n",
    "import hopsworks\n",
    "import joblib\n",
    "import datetime\n",
    "import dataframe_image as df1\n",
    "from datetime import datetime\n",
    "from sklearn.metrics import confusion_matrix\n",
    "import matplotlib.pyplot as plt\n",
    "import seaborn as sns\n",
    "\n",
    "project = hopsworks.login()\n",
    "fs = project.get_feature_store()"
   ]
  },
  {
   "cell_type": "code",
   "execution_count": 2,
   "id": "b61a445c",
   "metadata": {},
   "outputs": [
    {
     "name": "stdout",
     "output_type": "stream",
     "text": [
      "Connected. Call `.close()` to terminate connection gracefully.\n",
      "Downloading file ... "
     ]
    }
   ],
   "source": [
    "mr = project.get_model_registry()\n",
    "model = mr.get_model('bank_note', version=1)\n",
    "model_dir = model.download()\n",
    "model = joblib.load(model_dir + '/bank_note_model.pkl')"
   ]
  },
  {
   "cell_type": "code",
   "execution_count": 3,
   "id": "48ddd326",
   "metadata": {},
   "outputs": [],
   "source": [
    "feature_view = fs.get_feature_view(name='bank_notes_dataframe', version=1)"
   ]
  },
  {
   "cell_type": "code",
   "execution_count": null,
   "id": "21b432e4",
   "metadata": {},
   "outputs": [],
   "source": []
  },
  {
   "cell_type": "code",
   "execution_count": 4,
   "id": "2e787ade",
   "metadata": {},
   "outputs": [
    {
     "name": "stderr",
     "output_type": "stream",
     "text": [
      "VersionWarning: No training dataset version was provided to initialise batch scoring . Defaulting to version 1.\n"
     ]
    },
    {
     "name": "stdout",
     "output_type": "stream",
     "text": [
      "2023-05-04 16:28:18,492 INFO: USE `bwhiz_featurestore`\n",
      "2023-05-04 16:28:19,455 INFO: SELECT `fg0`.`variance` `variance`, `fg0`.`skewness` `skewness`, `fg0`.`curtosis` `curtosis`, `fg0`.`entropy` `entropy`\n",
      "FROM `bwhiz_featurestore`.`bank_notes_dataframe_1` `fg0`\n"
     ]
    },
    {
     "name": "stderr",
     "output_type": "stream",
     "text": [
      "UserWarning: pandas only supports SQLAlchemy connectable (engine/connection) or database string URI or sqlite3 DBAPI2 connection. Other DBAPI2 objects are not tested. Please consider using SQLAlchemy.\n"
     ]
    }
   ],
   "source": [
    "batch_data = feature_view.get_batch_data()\n",
    "predictions = model.predict(batch_data)"
   ]
  },
  {
   "cell_type": "code",
   "execution_count": 5,
   "id": "ccc76dd6",
   "metadata": {},
   "outputs": [
    {
     "data": {
      "text/plain": [
       "array([1, 1, 1, ..., 0, 0, 0])"
      ]
     },
     "execution_count": 5,
     "metadata": {},
     "output_type": "execute_result"
    }
   ],
   "source": [
    "predictions"
   ]
  },
  {
   "cell_type": "code",
   "execution_count": 6,
   "id": "48174d4a",
   "metadata": {
    "scrolled": true
   },
   "outputs": [
    {
     "data": {
      "text/html": [
       "<div>\n",
       "<style scoped>\n",
       "    .dataframe tbody tr th:only-of-type {\n",
       "        vertical-align: middle;\n",
       "    }\n",
       "\n",
       "    .dataframe tbody tr th {\n",
       "        vertical-align: top;\n",
       "    }\n",
       "\n",
       "    .dataframe thead th {\n",
       "        text-align: right;\n",
       "    }\n",
       "</style>\n",
       "<table border=\"1\" class=\"dataframe\">\n",
       "  <thead>\n",
       "    <tr style=\"text-align: right;\">\n",
       "      <th></th>\n",
       "      <th>variance</th>\n",
       "      <th>skewness</th>\n",
       "      <th>curtosis</th>\n",
       "      <th>entropy</th>\n",
       "    </tr>\n",
       "  </thead>\n",
       "  <tbody>\n",
       "    <tr>\n",
       "      <th>0</th>\n",
       "      <td>0.22432</td>\n",
       "      <td>-0.52147</td>\n",
       "      <td>-0.40386</td>\n",
       "      <td>1.20170</td>\n",
       "    </tr>\n",
       "    <tr>\n",
       "      <th>1</th>\n",
       "      <td>-2.29870</td>\n",
       "      <td>-5.22700</td>\n",
       "      <td>5.63000</td>\n",
       "      <td>0.91722</td>\n",
       "    </tr>\n",
       "    <tr>\n",
       "      <th>2</th>\n",
       "      <td>-4.50460</td>\n",
       "      <td>-5.81260</td>\n",
       "      <td>10.88670</td>\n",
       "      <td>-0.52846</td>\n",
       "    </tr>\n",
       "    <tr>\n",
       "      <th>3</th>\n",
       "      <td>3.96630</td>\n",
       "      <td>10.16840</td>\n",
       "      <td>-4.11310</td>\n",
       "      <td>-4.60560</td>\n",
       "    </tr>\n",
       "    <tr>\n",
       "      <th>4</th>\n",
       "      <td>-2.28040</td>\n",
       "      <td>-0.30626</td>\n",
       "      <td>1.33470</td>\n",
       "      <td>1.37630</td>\n",
       "    </tr>\n",
       "    <tr>\n",
       "      <th>...</th>\n",
       "      <td>...</td>\n",
       "      <td>...</td>\n",
       "      <td>...</td>\n",
       "      <td>...</td>\n",
       "    </tr>\n",
       "    <tr>\n",
       "      <th>1343</th>\n",
       "      <td>3.77580</td>\n",
       "      <td>7.17830</td>\n",
       "      <td>-1.51950</td>\n",
       "      <td>0.40128</td>\n",
       "    </tr>\n",
       "    <tr>\n",
       "      <th>1344</th>\n",
       "      <td>4.60540</td>\n",
       "      <td>-4.07650</td>\n",
       "      <td>2.75870</td>\n",
       "      <td>0.31981</td>\n",
       "    </tr>\n",
       "    <tr>\n",
       "      <th>1345</th>\n",
       "      <td>0.37980</td>\n",
       "      <td>0.70980</td>\n",
       "      <td>0.75720</td>\n",
       "      <td>-0.44440</td>\n",
       "    </tr>\n",
       "    <tr>\n",
       "      <th>1346</th>\n",
       "      <td>2.46730</td>\n",
       "      <td>1.39260</td>\n",
       "      <td>1.71250</td>\n",
       "      <td>0.41421</td>\n",
       "    </tr>\n",
       "    <tr>\n",
       "      <th>1347</th>\n",
       "      <td>3.77910</td>\n",
       "      <td>2.57620</td>\n",
       "      <td>1.30980</td>\n",
       "      <td>0.56550</td>\n",
       "    </tr>\n",
       "  </tbody>\n",
       "</table>\n",
       "<p>1348 rows × 4 columns</p>\n",
       "</div>"
      ],
      "text/plain": [
       "      variance  skewness  curtosis  entropy\n",
       "0      0.22432  -0.52147  -0.40386  1.20170\n",
       "1     -2.29870  -5.22700   5.63000  0.91722\n",
       "2     -4.50460  -5.81260  10.88670 -0.52846\n",
       "3      3.96630  10.16840  -4.11310 -4.60560\n",
       "4     -2.28040  -0.30626   1.33470  1.37630\n",
       "...        ...       ...       ...      ...\n",
       "1343   3.77580   7.17830  -1.51950  0.40128\n",
       "1344   4.60540  -4.07650   2.75870  0.31981\n",
       "1345   0.37980   0.70980   0.75720 -0.44440\n",
       "1346   2.46730   1.39260   1.71250  0.41421\n",
       "1347   3.77910   2.57620   1.30980  0.56550\n",
       "\n",
       "[1348 rows x 4 columns]"
      ]
     },
     "execution_count": 6,
     "metadata": {},
     "output_type": "execute_result"
    }
   ],
   "source": [
    "batch_data"
   ]
  },
  {
   "cell_type": "code",
   "execution_count": 7,
   "id": "b4b7fe37",
   "metadata": {},
   "outputs": [],
   "source": [
    "# prediciton on the last bank note sent :\n",
    "latest_bank_note = predictions[predictions.size - 1]"
   ]
  },
  {
   "cell_type": "code",
   "execution_count": 8,
   "id": "3a62e18b",
   "metadata": {},
   "outputs": [
    {
     "name": "stdout",
     "output_type": "stream",
     "text": [
      "2023-05-04 16:28:25,161 INFO: USE `bwhiz_featurestore`\n",
      "2023-05-04 16:28:25,954 INFO: SELECT `fg0`.`variance` `variance`, `fg0`.`skewness` `skewness`, `fg0`.`curtosis` `curtosis`, `fg0`.`entropy` `entropy`, `fg0`.`output` `output`\n",
      "FROM `bwhiz_featurestore`.`bank_notes_dataframe_1` `fg0`\n"
     ]
    },
    {
     "name": "stderr",
     "output_type": "stream",
     "text": [
      "UserWarning: pandas only supports SQLAlchemy connectable (engine/connection) or database string URI or sqlite3 DBAPI2 connection. Other DBAPI2 objects are not tested. Please consider using SQLAlchemy.\n"
     ]
    },
    {
     "data": {
      "text/html": [
       "<div>\n",
       "<style scoped>\n",
       "    .dataframe tbody tr th:only-of-type {\n",
       "        vertical-align: middle;\n",
       "    }\n",
       "\n",
       "    .dataframe tbody tr th {\n",
       "        vertical-align: top;\n",
       "    }\n",
       "\n",
       "    .dataframe thead th {\n",
       "        text-align: right;\n",
       "    }\n",
       "</style>\n",
       "<table border=\"1\" class=\"dataframe\">\n",
       "  <thead>\n",
       "    <tr style=\"text-align: right;\">\n",
       "      <th></th>\n",
       "      <th>variance</th>\n",
       "      <th>skewness</th>\n",
       "      <th>curtosis</th>\n",
       "      <th>entropy</th>\n",
       "      <th>output</th>\n",
       "    </tr>\n",
       "  </thead>\n",
       "  <tbody>\n",
       "    <tr>\n",
       "      <th>0</th>\n",
       "      <td>0.22432</td>\n",
       "      <td>-0.52147</td>\n",
       "      <td>-0.40386</td>\n",
       "      <td>1.20170</td>\n",
       "      <td>1</td>\n",
       "    </tr>\n",
       "    <tr>\n",
       "      <th>1</th>\n",
       "      <td>-2.29870</td>\n",
       "      <td>-5.22700</td>\n",
       "      <td>5.63000</td>\n",
       "      <td>0.91722</td>\n",
       "      <td>1</td>\n",
       "    </tr>\n",
       "    <tr>\n",
       "      <th>2</th>\n",
       "      <td>-4.50460</td>\n",
       "      <td>-5.81260</td>\n",
       "      <td>10.88670</td>\n",
       "      <td>-0.52846</td>\n",
       "      <td>1</td>\n",
       "    </tr>\n",
       "    <tr>\n",
       "      <th>3</th>\n",
       "      <td>3.96630</td>\n",
       "      <td>10.16840</td>\n",
       "      <td>-4.11310</td>\n",
       "      <td>-4.60560</td>\n",
       "      <td>0</td>\n",
       "    </tr>\n",
       "    <tr>\n",
       "      <th>4</th>\n",
       "      <td>-2.28040</td>\n",
       "      <td>-0.30626</td>\n",
       "      <td>1.33470</td>\n",
       "      <td>1.37630</td>\n",
       "      <td>1</td>\n",
       "    </tr>\n",
       "    <tr>\n",
       "      <th>...</th>\n",
       "      <td>...</td>\n",
       "      <td>...</td>\n",
       "      <td>...</td>\n",
       "      <td>...</td>\n",
       "      <td>...</td>\n",
       "    </tr>\n",
       "    <tr>\n",
       "      <th>1343</th>\n",
       "      <td>3.77580</td>\n",
       "      <td>7.17830</td>\n",
       "      <td>-1.51950</td>\n",
       "      <td>0.40128</td>\n",
       "      <td>0</td>\n",
       "    </tr>\n",
       "    <tr>\n",
       "      <th>1344</th>\n",
       "      <td>4.60540</td>\n",
       "      <td>-4.07650</td>\n",
       "      <td>2.75870</td>\n",
       "      <td>0.31981</td>\n",
       "      <td>0</td>\n",
       "    </tr>\n",
       "    <tr>\n",
       "      <th>1345</th>\n",
       "      <td>0.37980</td>\n",
       "      <td>0.70980</td>\n",
       "      <td>0.75720</td>\n",
       "      <td>-0.44440</td>\n",
       "      <td>0</td>\n",
       "    </tr>\n",
       "    <tr>\n",
       "      <th>1346</th>\n",
       "      <td>2.46730</td>\n",
       "      <td>1.39260</td>\n",
       "      <td>1.71250</td>\n",
       "      <td>0.41421</td>\n",
       "      <td>0</td>\n",
       "    </tr>\n",
       "    <tr>\n",
       "      <th>1347</th>\n",
       "      <td>3.77910</td>\n",
       "      <td>2.57620</td>\n",
       "      <td>1.30980</td>\n",
       "      <td>0.56550</td>\n",
       "      <td>0</td>\n",
       "    </tr>\n",
       "  </tbody>\n",
       "</table>\n",
       "<p>1348 rows × 5 columns</p>\n",
       "</div>"
      ],
      "text/plain": [
       "      variance  skewness  curtosis  entropy  output\n",
       "0      0.22432  -0.52147  -0.40386  1.20170       1\n",
       "1     -2.29870  -5.22700   5.63000  0.91722       1\n",
       "2     -4.50460  -5.81260  10.88670 -0.52846       1\n",
       "3      3.96630  10.16840  -4.11310 -4.60560       0\n",
       "4     -2.28040  -0.30626   1.33470  1.37630       1\n",
       "...        ...       ...       ...      ...     ...\n",
       "1343   3.77580   7.17830  -1.51950  0.40128       0\n",
       "1344   4.60540  -4.07650   2.75870  0.31981       0\n",
       "1345   0.37980   0.70980   0.75720 -0.44440       0\n",
       "1346   2.46730   1.39260   1.71250  0.41421       0\n",
       "1347   3.77910   2.57620   1.30980  0.56550       0\n",
       "\n",
       "[1348 rows x 5 columns]"
      ]
     },
     "execution_count": 8,
     "metadata": {},
     "output_type": "execute_result"
    }
   ],
   "source": [
    "bank_note_fg = fs.get_feature_group(name='bank_notes_dataframe', version=1)\n",
    "df = bank_note_fg.read()\n",
    "df"
   ]
  },
  {
   "cell_type": "code",
   "execution_count": 9,
   "id": "611d749b",
   "metadata": {},
   "outputs": [
    {
     "data": {
      "text/plain": [
       "0.0"
      ]
     },
     "execution_count": 9,
     "metadata": {},
     "output_type": "execute_result"
    }
   ],
   "source": [
    "### getting the actual label of the last row of data:\n",
    "label = df.iloc[-1]['output']\n",
    "label"
   ]
  },
  {
   "cell_type": "code",
   "execution_count": 10,
   "id": "973ccec8",
   "metadata": {},
   "outputs": [],
   "source": [
    "monitor_fg = fs.get_or_create_feature_group(name = 'bank_note_predictions',\n",
    "                                           version = 1,\n",
    "                                           primary_key = ['datetime'],\n",
    "                                           description = 'bank note prediction/output Monitoring')"
   ]
  },
  {
   "cell_type": "code",
   "execution_count": 11,
   "id": "287f1449",
   "metadata": {},
   "outputs": [
    {
     "name": "stdout",
     "output_type": "stream",
     "text": [
      "Feature Group created successfully, explore it at \n",
      "https://c.app.hopsworks.ai:443/p/39062/fs/38982/fg/42692\n"
     ]
    },
    {
     "data": {
      "application/vnd.jupyter.widget-view+json": {
       "model_id": "131806af4ed54e1b8e622a85cdb19869",
       "version_major": 2,
       "version_minor": 0
      },
      "text/plain": [
       "Uploading Dataframe: 0.00% |          | Rows 0/1 | Elapsed Time: 00:00 | Remaining Time: ?"
      ]
     },
     "metadata": {},
     "output_type": "display_data"
    },
    {
     "name": "stdout",
     "output_type": "stream",
     "text": [
      "Launching offline feature group backfill job...\n",
      "Backfill Job started successfully, you can follow the progress at \n",
      "https://c.app.hopsworks.ai/p/39062/jobs/named/bank_note_predictions_1_offline_fg_backfill/executions\n"
     ]
    },
    {
     "data": {
      "text/plain": [
       "(<hsfs.core.job.Job at 0x1c8ddfda1c0>, None)"
      ]
     },
     "execution_count": 11,
     "metadata": {},
     "output_type": "execute_result"
    }
   ],
   "source": [
    "now = datetime.now().strftime(\"%m/%d/%y, %H:%M:%S\")\n",
    "\n",
    "data = {\n",
    "    'prediction' : [latest_bank_note],\n",
    "    'label' : [label],\n",
    "    'datetime' :[now]\n",
    "}\n",
    "\n",
    "monitor_df = pd.DataFrame(data)\n",
    "monitor_fg.insert(monitor_df)"
   ]
  },
  {
   "cell_type": "code",
   "execution_count": null,
   "id": "8687122e",
   "metadata": {},
   "outputs": [],
   "source": []
  },
  {
   "cell_type": "code",
   "execution_count": 12,
   "id": "373ab90e",
   "metadata": {
    "scrolled": true
   },
   "outputs": [
    {
     "name": "stdout",
     "output_type": "stream",
     "text": [
      "2023-05-04 16:29:34,932 INFO: USE `bwhiz_featurestore`\n",
      "2023-05-04 16:29:35,688 INFO: SELECT `fg0`.`prediction` `prediction`, `fg0`.`label` `label`, `fg0`.`datetime` `datetime`\n",
      "FROM `bwhiz_featurestore`.`bank_note_predictions_1` `fg0`\n"
     ]
    },
    {
     "name": "stderr",
     "output_type": "stream",
     "text": [
      "UserWarning: pandas only supports SQLAlchemy connectable (engine/connection) or database string URI or sqlite3 DBAPI2 connection. Other DBAPI2 objects are not tested. Please consider using SQLAlchemy.\n"
     ]
    },
    {
     "data": {
      "text/html": [
       "<div>\n",
       "<style scoped>\n",
       "    .dataframe tbody tr th:only-of-type {\n",
       "        vertical-align: middle;\n",
       "    }\n",
       "\n",
       "    .dataframe tbody tr th {\n",
       "        vertical-align: top;\n",
       "    }\n",
       "\n",
       "    .dataframe thead th {\n",
       "        text-align: right;\n",
       "    }\n",
       "</style>\n",
       "<table border=\"1\" class=\"dataframe\">\n",
       "  <thead>\n",
       "    <tr style=\"text-align: right;\">\n",
       "      <th></th>\n",
       "      <th>prediction</th>\n",
       "      <th>label</th>\n",
       "      <th>datetime</th>\n",
       "    </tr>\n",
       "  </thead>\n",
       "  <tbody>\n",
       "    <tr>\n",
       "      <th>0</th>\n",
       "      <td>0</td>\n",
       "      <td>0.0</td>\n",
       "      <td>05/04/23, 16:28:29</td>\n",
       "    </tr>\n",
       "  </tbody>\n",
       "</table>\n",
       "</div>"
      ],
      "text/plain": [
       "   prediction  label            datetime\n",
       "0           0    0.0  05/04/23, 16:28:29"
      ]
     },
     "execution_count": 12,
     "metadata": {},
     "output_type": "execute_result"
    }
   ],
   "source": [
    "history_df = monitor_fg.read()\n",
    "history_df"
   ]
  },
  {
   "cell_type": "code",
   "execution_count": 13,
   "id": "3babab6c",
   "metadata": {},
   "outputs": [],
   "source": [
    "df_recent = history_df.tail(5)"
   ]
  },
  {
   "cell_type": "code",
   "execution_count": 14,
   "id": "49850b2b",
   "metadata": {},
   "outputs": [],
   "source": [
    "df1.export(df_recent, 'assets/df_recent.png') #save an image of the dataframe's last five output"
   ]
  },
  {
   "cell_type": "code",
   "execution_count": null,
   "id": "d94e5344",
   "metadata": {},
   "outputs": [],
   "source": []
  },
  {
   "cell_type": "code",
   "execution_count": 16,
   "id": "3f2b1719",
   "metadata": {},
   "outputs": [
    {
     "name": "stdout",
     "output_type": "stream",
     "text": [
      "[[1]]\n"
     ]
    }
   ],
   "source": [
    "predictions = history_df['prediction']\n",
    "labels = history_df['label']\n",
    "\n",
    "results = confusion_matrix(labels, predictions)\n",
    "print(results)"
   ]
  },
  {
   "cell_type": "code",
   "execution_count": null,
   "id": "c60c431b",
   "metadata": {},
   "outputs": [],
   "source": [
    "try:\n",
    "    if results.shape == (3,3):\n",
    "        cm = sns.heatmap(results, annot=True)\n",
    "        \n",
    "        fig = cm.get_figure()\n",
    "        fig.savefig('assets/confusion_matrix.png')\n",
    "        results\n",
    "    else:\n",
    "        print('The confusion is isnt a square matrix ')"
   ]
  }
 ],
 "metadata": {
  "kernelspec": {
   "display_name": "Python 3 (ipykernel)",
   "language": "python",
   "name": "python3"
  },
  "language_info": {
   "codemirror_mode": {
    "name": "ipython",
    "version": 3
   },
   "file_extension": ".py",
   "mimetype": "text/x-python",
   "name": "python",
   "nbconvert_exporter": "python",
   "pygments_lexer": "ipython3",
   "version": "3.9.0"
  }
 },
 "nbformat": 4,
 "nbformat_minor": 5
}
