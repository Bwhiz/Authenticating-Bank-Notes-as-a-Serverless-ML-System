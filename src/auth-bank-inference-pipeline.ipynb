{
 "cells": [
  {
   "cell_type": "code",
   "execution_count": 21,
   "id": "7362f616",
   "metadata": {},
   "outputs": [
    {
     "name": "stdout",
     "output_type": "stream",
     "text": [
      "Connection closed.\n",
      "Connected. Call `.close()` to terminate connection gracefully.\n",
      "\n",
      "Logged in to project, explore it here https://c.app.hopsworks.ai:443/p/39062\n",
      "Connected. Call `.close()` to terminate connection gracefully.\n"
     ]
    }
   ],
   "source": [
    "import pandas as pd\n",
    "import hopsworks\n",
    "import joblib\n",
    "import datetime\n",
    "#import dataframe_image as df1\n",
    "from datetime import datetime\n",
    "from sklearn.metrics import confusion_matrix\n",
    "import matplotlib.pyplot as plt\n",
    "import seaborn as sns\n",
    "\n",
    "project = hopsworks.login()\n",
    "fs = project.get_feature_store()"
   ]
  },
  {
   "cell_type": "code",
   "execution_count": 22,
   "id": "eefc5886",
   "metadata": {},
   "outputs": [
    {
     "name": "stdout",
     "output_type": "stream",
     "text": [
      "Connected. Call `.close()` to terminate connection gracefully.\n",
      "Downloading file ... "
     ]
    }
   ],
   "source": [
    "mr = project.get_model_registry()\n",
    "model = mr.get_model('bank_note', version=1)\n",
    "model_dir = model.download()\n",
    "model = joblib.load(model_dir + '/bank_note_model.pkl')"
   ]
  },
  {
   "cell_type": "code",
   "execution_count": 23,
   "id": "be7857a8",
   "metadata": {},
   "outputs": [],
   "source": [
    "feature_view = fs.get_feature_view(name='bank_notes_dataframe', version=1)"
   ]
  },
  {
   "cell_type": "code",
   "execution_count": null,
   "id": "4ad54d3e",
   "metadata": {},
   "outputs": [],
   "source": []
  },
  {
   "cell_type": "code",
   "execution_count": 24,
   "id": "4ac57494",
   "metadata": {},
   "outputs": [
    {
     "name": "stderr",
     "output_type": "stream",
     "text": [
      "VersionWarning: No training dataset version was provided to initialise batch scoring . Defaulting to version 1.\n"
     ]
    },
    {
     "name": "stdout",
     "output_type": "stream",
     "text": [
      "2023-05-05 05:20:59,311 INFO: USE `bwhiz_featurestore`\n",
      "2023-05-05 05:21:00,170 INFO: SELECT `fg0`.`variance` `variance`, `fg0`.`skewness` `skewness`, `fg0`.`curtosis` `curtosis`, `fg0`.`entropy` `entropy`\n",
      "FROM `bwhiz_featurestore`.`bank_notes_dataframe_1` `fg0`\n"
     ]
    },
    {
     "name": "stderr",
     "output_type": "stream",
     "text": [
      "UserWarning: pandas only supports SQLAlchemy connectable (engine/connection) or database string URI or sqlite3 DBAPI2 connection. Other DBAPI2 objects are not tested. Please consider using SQLAlchemy.\n"
     ]
    }
   ],
   "source": [
    "batch_data = feature_view.get_batch_data()\n",
    "predictions = model.predict(batch_data)"
   ]
  },
  {
   "cell_type": "code",
   "execution_count": 25,
   "id": "8b0101d0",
   "metadata": {},
   "outputs": [
    {
     "data": {
      "text/plain": [
       "array([1, 1, 1, ..., 0, 1, 0])"
      ]
     },
     "execution_count": 25,
     "metadata": {},
     "output_type": "execute_result"
    }
   ],
   "source": [
    "predictions"
   ]
  },
  {
   "cell_type": "code",
   "execution_count": 26,
   "id": "7ebb46dd",
   "metadata": {
    "scrolled": true
   },
   "outputs": [
    {
     "data": {
      "text/html": [
       "<div>\n",
       "<style scoped>\n",
       "    .dataframe tbody tr th:only-of-type {\n",
       "        vertical-align: middle;\n",
       "    }\n",
       "\n",
       "    .dataframe tbody tr th {\n",
       "        vertical-align: top;\n",
       "    }\n",
       "\n",
       "    .dataframe thead th {\n",
       "        text-align: right;\n",
       "    }\n",
       "</style>\n",
       "<table border=\"1\" class=\"dataframe\">\n",
       "  <thead>\n",
       "    <tr style=\"text-align: right;\">\n",
       "      <th></th>\n",
       "      <th>variance</th>\n",
       "      <th>skewness</th>\n",
       "      <th>curtosis</th>\n",
       "      <th>entropy</th>\n",
       "    </tr>\n",
       "  </thead>\n",
       "  <tbody>\n",
       "    <tr>\n",
       "      <th>0</th>\n",
       "      <td>0.224320</td>\n",
       "      <td>-0.521470</td>\n",
       "      <td>-0.403860</td>\n",
       "      <td>1.201700</td>\n",
       "    </tr>\n",
       "    <tr>\n",
       "      <th>1</th>\n",
       "      <td>-2.298700</td>\n",
       "      <td>-5.227000</td>\n",
       "      <td>5.630000</td>\n",
       "      <td>0.917220</td>\n",
       "    </tr>\n",
       "    <tr>\n",
       "      <th>2</th>\n",
       "      <td>-4.504600</td>\n",
       "      <td>-5.812600</td>\n",
       "      <td>10.886700</td>\n",
       "      <td>-0.528460</td>\n",
       "    </tr>\n",
       "    <tr>\n",
       "      <th>3</th>\n",
       "      <td>3.966300</td>\n",
       "      <td>10.168400</td>\n",
       "      <td>-4.113100</td>\n",
       "      <td>-4.605600</td>\n",
       "    </tr>\n",
       "    <tr>\n",
       "      <th>4</th>\n",
       "      <td>-2.280400</td>\n",
       "      <td>-0.306260</td>\n",
       "      <td>1.334700</td>\n",
       "      <td>1.376300</td>\n",
       "    </tr>\n",
       "    <tr>\n",
       "      <th>...</th>\n",
       "      <td>...</td>\n",
       "      <td>...</td>\n",
       "      <td>...</td>\n",
       "      <td>...</td>\n",
       "    </tr>\n",
       "    <tr>\n",
       "      <th>1345</th>\n",
       "      <td>0.379800</td>\n",
       "      <td>0.709800</td>\n",
       "      <td>0.757200</td>\n",
       "      <td>-0.444400</td>\n",
       "    </tr>\n",
       "    <tr>\n",
       "      <th>1346</th>\n",
       "      <td>2.467300</td>\n",
       "      <td>1.392600</td>\n",
       "      <td>1.712500</td>\n",
       "      <td>0.414210</td>\n",
       "    </tr>\n",
       "    <tr>\n",
       "      <th>1347</th>\n",
       "      <td>3.779100</td>\n",
       "      <td>2.576200</td>\n",
       "      <td>1.309800</td>\n",
       "      <td>0.565500</td>\n",
       "    </tr>\n",
       "    <tr>\n",
       "      <th>1348</th>\n",
       "      <td>-4.032270</td>\n",
       "      <td>-8.321182</td>\n",
       "      <td>6.125914</td>\n",
       "      <td>-5.591904</td>\n",
       "    </tr>\n",
       "    <tr>\n",
       "      <th>1349</th>\n",
       "      <td>1.634066</td>\n",
       "      <td>-1.128419</td>\n",
       "      <td>3.492516</td>\n",
       "      <td>-6.411996</td>\n",
       "    </tr>\n",
       "  </tbody>\n",
       "</table>\n",
       "<p>1350 rows × 4 columns</p>\n",
       "</div>"
      ],
      "text/plain": [
       "      variance   skewness   curtosis   entropy\n",
       "0     0.224320  -0.521470  -0.403860  1.201700\n",
       "1    -2.298700  -5.227000   5.630000  0.917220\n",
       "2    -4.504600  -5.812600  10.886700 -0.528460\n",
       "3     3.966300  10.168400  -4.113100 -4.605600\n",
       "4    -2.280400  -0.306260   1.334700  1.376300\n",
       "...        ...        ...        ...       ...\n",
       "1345  0.379800   0.709800   0.757200 -0.444400\n",
       "1346  2.467300   1.392600   1.712500  0.414210\n",
       "1347  3.779100   2.576200   1.309800  0.565500\n",
       "1348 -4.032270  -8.321182   6.125914 -5.591904\n",
       "1349  1.634066  -1.128419   3.492516 -6.411996\n",
       "\n",
       "[1350 rows x 4 columns]"
      ]
     },
     "execution_count": 26,
     "metadata": {},
     "output_type": "execute_result"
    }
   ],
   "source": [
    "batch_data"
   ]
  },
  {
   "cell_type": "code",
   "execution_count": 27,
   "id": "3161af7a",
   "metadata": {},
   "outputs": [],
   "source": [
    "# prediciton on the last bank note sent :\n",
    "latest_bank_note = predictions[predictions.size - 1]"
   ]
  },
  {
   "cell_type": "code",
   "execution_count": 28,
   "id": "c983ca94",
   "metadata": {},
   "outputs": [
    {
     "name": "stdout",
     "output_type": "stream",
     "text": [
      "2023-05-05 05:21:05,827 INFO: USE `bwhiz_featurestore`\n",
      "2023-05-05 05:21:06,601 INFO: SELECT `fg0`.`variance` `variance`, `fg0`.`skewness` `skewness`, `fg0`.`curtosis` `curtosis`, `fg0`.`entropy` `entropy`, `fg0`.`output` `output`\n",
      "FROM `bwhiz_featurestore`.`bank_notes_dataframe_1` `fg0`\n"
     ]
    },
    {
     "name": "stderr",
     "output_type": "stream",
     "text": [
      "UserWarning: pandas only supports SQLAlchemy connectable (engine/connection) or database string URI or sqlite3 DBAPI2 connection. Other DBAPI2 objects are not tested. Please consider using SQLAlchemy.\n"
     ]
    },
    {
     "data": {
      "text/html": [
       "<div>\n",
       "<style scoped>\n",
       "    .dataframe tbody tr th:only-of-type {\n",
       "        vertical-align: middle;\n",
       "    }\n",
       "\n",
       "    .dataframe tbody tr th {\n",
       "        vertical-align: top;\n",
       "    }\n",
       "\n",
       "    .dataframe thead th {\n",
       "        text-align: right;\n",
       "    }\n",
       "</style>\n",
       "<table border=\"1\" class=\"dataframe\">\n",
       "  <thead>\n",
       "    <tr style=\"text-align: right;\">\n",
       "      <th></th>\n",
       "      <th>variance</th>\n",
       "      <th>skewness</th>\n",
       "      <th>curtosis</th>\n",
       "      <th>entropy</th>\n",
       "      <th>output</th>\n",
       "    </tr>\n",
       "  </thead>\n",
       "  <tbody>\n",
       "    <tr>\n",
       "      <th>0</th>\n",
       "      <td>0.224320</td>\n",
       "      <td>-0.521470</td>\n",
       "      <td>-0.403860</td>\n",
       "      <td>1.201700</td>\n",
       "      <td>1</td>\n",
       "    </tr>\n",
       "    <tr>\n",
       "      <th>1</th>\n",
       "      <td>-2.298700</td>\n",
       "      <td>-5.227000</td>\n",
       "      <td>5.630000</td>\n",
       "      <td>0.917220</td>\n",
       "      <td>1</td>\n",
       "    </tr>\n",
       "    <tr>\n",
       "      <th>2</th>\n",
       "      <td>-4.504600</td>\n",
       "      <td>-5.812600</td>\n",
       "      <td>10.886700</td>\n",
       "      <td>-0.528460</td>\n",
       "      <td>1</td>\n",
       "    </tr>\n",
       "    <tr>\n",
       "      <th>3</th>\n",
       "      <td>3.966300</td>\n",
       "      <td>10.168400</td>\n",
       "      <td>-4.113100</td>\n",
       "      <td>-4.605600</td>\n",
       "      <td>0</td>\n",
       "    </tr>\n",
       "    <tr>\n",
       "      <th>4</th>\n",
       "      <td>-2.280400</td>\n",
       "      <td>-0.306260</td>\n",
       "      <td>1.334700</td>\n",
       "      <td>1.376300</td>\n",
       "      <td>1</td>\n",
       "    </tr>\n",
       "    <tr>\n",
       "      <th>...</th>\n",
       "      <td>...</td>\n",
       "      <td>...</td>\n",
       "      <td>...</td>\n",
       "      <td>...</td>\n",
       "      <td>...</td>\n",
       "    </tr>\n",
       "    <tr>\n",
       "      <th>1345</th>\n",
       "      <td>0.379800</td>\n",
       "      <td>0.709800</td>\n",
       "      <td>0.757200</td>\n",
       "      <td>-0.444400</td>\n",
       "      <td>0</td>\n",
       "    </tr>\n",
       "    <tr>\n",
       "      <th>1346</th>\n",
       "      <td>2.467300</td>\n",
       "      <td>1.392600</td>\n",
       "      <td>1.712500</td>\n",
       "      <td>0.414210</td>\n",
       "      <td>0</td>\n",
       "    </tr>\n",
       "    <tr>\n",
       "      <th>1347</th>\n",
       "      <td>3.779100</td>\n",
       "      <td>2.576200</td>\n",
       "      <td>1.309800</td>\n",
       "      <td>0.565500</td>\n",
       "      <td>0</td>\n",
       "    </tr>\n",
       "    <tr>\n",
       "      <th>1348</th>\n",
       "      <td>-4.032270</td>\n",
       "      <td>-8.321182</td>\n",
       "      <td>6.125914</td>\n",
       "      <td>-5.591904</td>\n",
       "      <td>1</td>\n",
       "    </tr>\n",
       "    <tr>\n",
       "      <th>1349</th>\n",
       "      <td>1.634066</td>\n",
       "      <td>-1.128419</td>\n",
       "      <td>3.492516</td>\n",
       "      <td>-6.411996</td>\n",
       "      <td>0</td>\n",
       "    </tr>\n",
       "  </tbody>\n",
       "</table>\n",
       "<p>1350 rows × 5 columns</p>\n",
       "</div>"
      ],
      "text/plain": [
       "      variance   skewness   curtosis   entropy  output\n",
       "0     0.224320  -0.521470  -0.403860  1.201700       1\n",
       "1    -2.298700  -5.227000   5.630000  0.917220       1\n",
       "2    -4.504600  -5.812600  10.886700 -0.528460       1\n",
       "3     3.966300  10.168400  -4.113100 -4.605600       0\n",
       "4    -2.280400  -0.306260   1.334700  1.376300       1\n",
       "...        ...        ...        ...       ...     ...\n",
       "1345  0.379800   0.709800   0.757200 -0.444400       0\n",
       "1346  2.467300   1.392600   1.712500  0.414210       0\n",
       "1347  3.779100   2.576200   1.309800  0.565500       0\n",
       "1348 -4.032270  -8.321182   6.125914 -5.591904       1\n",
       "1349  1.634066  -1.128419   3.492516 -6.411996       0\n",
       "\n",
       "[1350 rows x 5 columns]"
      ]
     },
     "execution_count": 28,
     "metadata": {},
     "output_type": "execute_result"
    }
   ],
   "source": [
    "bank_note_fg = fs.get_feature_group(name='bank_notes_dataframe', version=1)\n",
    "df = bank_note_fg.read()\n",
    "df"
   ]
  },
  {
   "cell_type": "code",
   "execution_count": 29,
   "id": "28f9432e",
   "metadata": {},
   "outputs": [
    {
     "data": {
      "text/plain": [
       "0.0"
      ]
     },
     "execution_count": 29,
     "metadata": {},
     "output_type": "execute_result"
    }
   ],
   "source": [
    "### getting the actual label of the last row of data:\n",
    "label = df.iloc[-1]['output']\n",
    "label"
   ]
  },
  {
   "cell_type": "code",
   "execution_count": 30,
   "id": "989ceb03",
   "metadata": {},
   "outputs": [],
   "source": [
    "monitor_fg = fs.get_or_create_feature_group(name = 'bank_note_predictions',\n",
    "                                           version = 1,\n",
    "                                           primary_key = ['datetime'],\n",
    "                                           description = 'bank note prediction/output Monitoring')"
   ]
  },
  {
   "cell_type": "code",
   "execution_count": 31,
   "id": "4e69fc06",
   "metadata": {},
   "outputs": [
    {
     "data": {
      "application/vnd.jupyter.widget-view+json": {
       "model_id": "7fcc54d414144bd9b061ed1851da2d15",
       "version_major": 2,
       "version_minor": 0
      },
      "text/plain": [
       "Uploading Dataframe: 0.00% |          | Rows 0/1 | Elapsed Time: 00:00 | Remaining Time: ?"
      ]
     },
     "metadata": {},
     "output_type": "display_data"
    },
    {
     "name": "stdout",
     "output_type": "stream",
     "text": [
      "Launching offline feature group backfill job...\n",
      "Backfill Job started successfully, you can follow the progress at \n",
      "https://c.app.hopsworks.ai/p/39062/jobs/named/bank_note_predictions_1_offline_fg_backfill/executions\n"
     ]
    },
    {
     "data": {
      "text/plain": [
       "(<hsfs.core.job.Job at 0x1c8e0863ca0>, None)"
      ]
     },
     "execution_count": 31,
     "metadata": {},
     "output_type": "execute_result"
    }
   ],
   "source": [
    "now = datetime.now().strftime(\"%m/%d/%y, %H:%M:%S\")\n",
    "\n",
    "data = {\n",
    "    'prediction' : [latest_bank_note],\n",
    "    'label' : [label],\n",
    "    'datetime' :[now]\n",
    "}\n",
    "\n",
    "monitor_df = pd.DataFrame(data)\n",
    "monitor_fg.insert(monitor_df)"
   ]
  },
  {
   "cell_type": "code",
   "execution_count": null,
   "id": "57f6ae67",
   "metadata": {},
   "outputs": [],
   "source": []
  },
  {
   "cell_type": "code",
   "execution_count": 32,
   "id": "0c962997",
   "metadata": {
    "scrolled": true
   },
   "outputs": [
    {
     "name": "stdout",
     "output_type": "stream",
     "text": [
      "2023-05-05 05:22:09,669 INFO: USE `bwhiz_featurestore`\n",
      "2023-05-05 05:22:10,427 INFO: SELECT `fg0`.`prediction` `prediction`, `fg0`.`label` `label`, `fg0`.`datetime` `datetime`\n",
      "FROM `bwhiz_featurestore`.`bank_note_predictions_1` `fg0`\n"
     ]
    },
    {
     "name": "stderr",
     "output_type": "stream",
     "text": [
      "UserWarning: pandas only supports SQLAlchemy connectable (engine/connection) or database string URI or sqlite3 DBAPI2 connection. Other DBAPI2 objects are not tested. Please consider using SQLAlchemy.\n"
     ]
    },
    {
     "data": {
      "text/html": [
       "<div>\n",
       "<style scoped>\n",
       "    .dataframe tbody tr th:only-of-type {\n",
       "        vertical-align: middle;\n",
       "    }\n",
       "\n",
       "    .dataframe tbody tr th {\n",
       "        vertical-align: top;\n",
       "    }\n",
       "\n",
       "    .dataframe thead th {\n",
       "        text-align: right;\n",
       "    }\n",
       "</style>\n",
       "<table border=\"1\" class=\"dataframe\">\n",
       "  <thead>\n",
       "    <tr style=\"text-align: right;\">\n",
       "      <th></th>\n",
       "      <th>prediction</th>\n",
       "      <th>label</th>\n",
       "      <th>datetime</th>\n",
       "    </tr>\n",
       "  </thead>\n",
       "  <tbody>\n",
       "    <tr>\n",
       "      <th>0</th>\n",
       "      <td>0</td>\n",
       "      <td>0.0</td>\n",
       "      <td>05/04/23, 16:28:29</td>\n",
       "    </tr>\n",
       "    <tr>\n",
       "      <th>1</th>\n",
       "      <td>0</td>\n",
       "      <td>0.0</td>\n",
       "      <td>05/05/23, 05:21:10</td>\n",
       "    </tr>\n",
       "  </tbody>\n",
       "</table>\n",
       "</div>"
      ],
      "text/plain": [
       "   prediction  label            datetime\n",
       "0           0    0.0  05/04/23, 16:28:29\n",
       "1           0    0.0  05/05/23, 05:21:10"
      ]
     },
     "execution_count": 32,
     "metadata": {},
     "output_type": "execute_result"
    }
   ],
   "source": [
    "history_df = monitor_fg.read()\n",
    "history_df"
   ]
  },
  {
   "cell_type": "code",
   "execution_count": 33,
   "id": "61551552",
   "metadata": {},
   "outputs": [],
   "source": [
    "df_recent = history_df.tail(5)"
   ]
  },
  {
   "cell_type": "code",
   "execution_count": 34,
   "id": "1d4e1397",
   "metadata": {},
   "outputs": [],
   "source": [
    "#df1.export(df_recent, 'assets/df_recent.png') #save an image of the dataframe's last five output"
   ]
  },
  {
   "cell_type": "code",
   "execution_count": null,
   "id": "5a9ef220",
   "metadata": {},
   "outputs": [],
   "source": []
  },
  {
   "cell_type": "code",
   "execution_count": 35,
   "id": "6bdbd815",
   "metadata": {},
   "outputs": [
    {
     "name": "stdout",
     "output_type": "stream",
     "text": [
      "[[2]]\n"
     ]
    }
   ],
   "source": [
    "predictions = history_df['prediction']\n",
    "labels = history_df['label']\n",
    "\n",
    "results = confusion_matrix(labels, predictions)\n",
    "print(results)"
   ]
  },
  {
   "cell_type": "code",
   "execution_count": 36,
   "id": "c94a92bc",
   "metadata": {},
   "outputs": [
    {
     "name": "stdout",
     "output_type": "stream",
     "text": [
      "The confusion isnt a square matrix yet , run the feature pipeline with BACKFILL == False\n"
     ]
    }
   ],
   "source": [
    "try:\n",
    "    if results.shape == (2,2):\n",
    "        cm = sns.heatmap(results, annot=True)\n",
    "        \n",
    "        fig = cm.get_figure()\n",
    "        fig.savefig('assets/confusion_matrix.png')\n",
    "        results\n",
    "    else:\n",
    "        print('The confusion isnt a square matrix yet , run the feature pipeline with BACKFILL == False')\n",
    "except:\n",
    "    pass"
   ]
  },
  {
   "cell_type": "code",
   "execution_count": null,
   "id": "5d9f174f",
   "metadata": {},
   "outputs": [],
   "source": []
  }
 ],
 "metadata": {
  "kernelspec": {
   "display_name": "Python 3 (ipykernel)",
   "language": "python",
   "name": "python3"
  },
  "language_info": {
   "codemirror_mode": {
    "name": "ipython",
    "version": 3
   },
   "file_extension": ".py",
   "mimetype": "text/x-python",
   "name": "python",
   "nbconvert_exporter": "python",
   "pygments_lexer": "ipython3",
   "version": "3.9.0"
  }
 },
 "nbformat": 4,
 "nbformat_minor": 5
}
