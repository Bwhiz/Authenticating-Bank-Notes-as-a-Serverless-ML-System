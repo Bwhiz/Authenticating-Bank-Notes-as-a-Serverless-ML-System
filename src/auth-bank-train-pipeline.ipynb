{
 "cells": [
  {
   "cell_type": "code",
   "execution_count": 24,
   "id": "b027ff4a",
   "metadata": {
    "scrolled": true
   },
   "outputs": [],
   "source": [
    "import pandas as pd\n",
    "import numpy as np\n",
    "import seaborn as sns\n",
    "import matplotlib.pyplot as plt\n",
    "import hopsworks\n",
    "import os\n",
    "import joblib\n",
    "from hsml.schema import Schema\n",
    "from hsml.model_schema import ModelSchema\n",
    "import shutil\n",
    "from sklearn.model_selection import train_test_split as tts, StratifiedKFold\n",
    "from xgboost import XGBClassifier\n",
    "from sklearn.metrics import accuracy_score, roc_auc_score, classification_report, confusion_matrix"
   ]
  },
  {
   "cell_type": "code",
   "execution_count": 22,
   "id": "0907171d",
   "metadata": {},
   "outputs": [],
   "source": [
    "os.mkdir('assets')"
   ]
  },
  {
   "cell_type": "code",
   "execution_count": 2,
   "id": "32b35e7d",
   "metadata": {},
   "outputs": [
    {
     "name": "stdout",
     "output_type": "stream",
     "text": [
      "Connected. Call `.close()` to terminate connection gracefully.\n",
      "\n",
      "Logged in to project, explore it here https://c.app.hopsworks.ai:443/p/39062\n",
      "Connected. Call `.close()` to terminate connection gracefully.\n",
      "Feature view created successfully, explore it at \n",
      "https://c.app.hopsworks.ai:443/p/39062/fs/38982/fv/bank_notes_dataframe/version/1\n"
     ]
    }
   ],
   "source": [
    "proj = hopsworks.login()\n",
    "fs = proj.get_feature_store()\n",
    "\n",
    "try:\n",
    "    feature_view = fs.get_feature_view(name='bank_notes_dataframe', version=1)\n",
    "except:\n",
    "    bank_auth_fg = fs.get_feature_group(name='bank_notes_dataframe', version=1)\n",
    "    query = bank_auth_fg.select_all()\n",
    "    feature_view = fs.create_feature_view(name='bank_notes_dataframe',\n",
    "                                         version = 1,\n",
    "                                         description = 'Read from bank-note dataset',\n",
    "                                         labels = ['output'],\n",
    "                                         query = query)"
   ]
  },
  {
   "cell_type": "code",
   "execution_count": 3,
   "id": "098d5bc1",
   "metadata": {
    "scrolled": true
   },
   "outputs": [
    {
     "name": "stdout",
     "output_type": "stream",
     "text": [
      "2023-05-01 18:57:32,995 INFO: USE `bwhiz_featurestore`\n",
      "2023-05-01 18:57:33,773 INFO: SELECT `fg0`.`variance` `variance`, `fg0`.`skewness` `skewness`, `fg0`.`curtosis` `curtosis`, `fg0`.`entropy` `entropy`, `fg0`.`output` `output`\n",
      "FROM `bwhiz_featurestore`.`bank_notes_dataframe_1` `fg0`\n"
     ]
    },
    {
     "name": "stderr",
     "output_type": "stream",
     "text": [
      "UserWarning: pandas only supports SQLAlchemy connectable (engine/connection) or database string URI or sqlite3 DBAPI2 connection. Other DBAPI2 objects are not tested. Please consider using SQLAlchemy.\n",
      "VersionWarning: Incremented version to `1`.\n"
     ]
    }
   ],
   "source": [
    "X_train, X_test, y_train, y_test = feature_view.train_test_split(test_size = 0.3)"
   ]
  },
  {
   "cell_type": "code",
   "execution_count": 8,
   "id": "4a65929d",
   "metadata": {},
   "outputs": [],
   "source": [
    "X_train.reset_index(drop=True, inplace=True)\n",
    "X_test.reset_index(drop=True, inplace=True)\n",
    "y_train.reset_index(drop=True, inplace=True)\n",
    "y_test.reset_index(drop=True, inplace=True)"
   ]
  },
  {
   "cell_type": "code",
   "execution_count": 11,
   "id": "58db6533",
   "metadata": {},
   "outputs": [
    {
     "name": "stdout",
     "output_type": "stream",
     "text": [
      "The Accuracy is [0.9947089947089947, 0.9841269841269841, 0.9947089947089947, 0.9893617021276596, 0.9946808510638298]\n",
      "The ROC is [1.0, 0.9997726756080927, 1.0, 0.9995410212277681, 0.9994247583985273]\n",
      "Mean Accuracy is 0.9915\n",
      "Mean ROC is: 0.9997\n"
     ]
    }
   ],
   "source": [
    "xgb_cls = XGBClassifier()\n",
    "skf = StratifiedKFold(n_splits=5, shuffle=True, random_state=0)\n",
    "\n",
    "acc = []\n",
    "roc = []\n",
    "for train_idx, val_idx in skf.split(X_train, y_train):\n",
    "    X_train_fold, X_val_fold = X_train.loc[train_idx], X_train.loc[val_idx]\n",
    "    y_train_fold, y_val_fold = y_train.loc[train_idx], y_train.loc[val_idx] \n",
    "    xgb_cls.fit(X_train_fold, y_train_fold)\n",
    "    y_pred = xgb_cls.predict(X_val_fold)\n",
    "    y_prob = xgb_cls.predict_proba(X_val_fold)\n",
    "    acc_score = accuracy_score(y_val_fold, y_pred)\n",
    "    roc_score = roc_auc_score(y_val_fold, y_prob[:,1])\n",
    "    acc.append(acc_score)\n",
    "    roc.append(roc_score)\n",
    "print(f'The Accuracy is {acc}')\n",
    "print(f'The ROC is {roc}')\n",
    "print(f'Mean Accuracy is {np.mean(acc):.4f}')\n",
    "print(f'Mean ROC is: {np.mean(roc):.4f}')"
   ]
  },
  {
   "cell_type": "code",
   "execution_count": 12,
   "id": "1e71c7af",
   "metadata": {},
   "outputs": [],
   "source": [
    "prediction = xgb_cls.predict(X_test)"
   ]
  },
  {
   "cell_type": "code",
   "execution_count": 26,
   "id": "a8ad2369",
   "metadata": {
    "scrolled": true
   },
   "outputs": [
    {
     "name": "stdout",
     "output_type": "stream",
     "text": [
      "{'0': {'precision': 1.0, 'recall': 0.9952153110047847, 'f1-score': 0.9976019184652278, 'support': 209}, '1': {'precision': 0.9949238578680203, 'recall': 1.0, 'f1-score': 0.9974554707379135, 'support': 196}, 'accuracy': 0.9975308641975309, 'macro avg': {'precision': 0.9974619289340101, 'recall': 0.9976076555023923, 'f1-score': 0.9975286946015707, 'support': 405}, 'weighted avg': {'precision': 0.9975433978818073, 'recall': 0.9975308641975309, 'f1-score': 0.9975310449971941, 'support': 405}}\n"
     ]
    }
   ],
   "source": [
    "metrics = classification_report(y_test, prediction,output_dict=True)\n",
    "print(metrics)"
   ]
  },
  {
   "cell_type": "code",
   "execution_count": 23,
   "id": "b6994771",
   "metadata": {
    "scrolled": false
   },
   "outputs": [
    {
     "name": "stderr",
     "output_type": "stream",
     "text": [
      "UserWarning: Matplotlib is currently using module://matplotlib_inline.backend_inline, which is a non-GUI backend, so cannot show the figure.\n"
     ]
    },
    {
     "data": {
      "image/png": "[encoded data removed]",
      "text/plain": [
       "<Figure size 640x480 with 1 Axes>"
      ]
     },
     "metadata": {},
     "output_type": "display_data"
    }
   ],
   "source": [
    "cm = sns.heatmap(confusion_matrix(y_test, prediction), annot=True, fmt='',\n",
    "            linecolor='k',linewidths=1,cmap='Blues',cbar=False)\n",
    "\n",
    "fig = cm.get_figure()\n",
    "fig.savefig('assets/confusion_matrix.png')\n",
    "fig.show();"
   ]
  },
  {
   "cell_type": "markdown",
   "id": "41c078a9",
   "metadata": {},
   "source": [
    "### Registering the Model with Hopsworks Model Registry"
   ]
  },
  {
   "cell_type": "code",
   "execution_count": 31,
   "id": "f9c0c285",
   "metadata": {},
   "outputs": [
    {
     "name": "stdout",
     "output_type": "stream",
     "text": [
      "Connection closed.\n",
      "Connected. Call `.close()` to terminate connection gracefully.\n",
      "\n",
      "Logged in to project, explore it here https://c.app.hopsworks.ai:443/p/39062\n",
      "Connected. Call `.close()` to terminate connection gracefully.\n"
     ]
    },
    {
     "ename": "ModelRegistryException",
     "evalue": "Model with name bank_note and version 1 already exists",
     "output_type": "error",
     "traceback": [
      "\u001b[1;31m---------------------------------------------------------------------------\u001b[0m",
      "\u001b[1;31mModelRegistryException\u001b[0m                    Traceback (most recent call last)",
      "Cell \u001b[1;32mIn[31], line 23\u001b[0m\n\u001b[0;32m     13\u001b[0m model_schema \u001b[38;5;241m=\u001b[39m ModelSchema(input_schema, output_schema)\n\u001b[0;32m     15\u001b[0m bank_note_model \u001b[38;5;241m=\u001b[39m mr\u001b[38;5;241m.\u001b[39mpython\u001b[38;5;241m.\u001b[39mcreate_model(version\u001b[38;5;241m=\u001b[39m\u001b[38;5;241m1\u001b[39m,\n\u001b[0;32m     16\u001b[0m                                     name \u001b[38;5;241m=\u001b[39m \u001b[38;5;124m'\u001b[39m\u001b[38;5;124mbank_note\u001b[39m\u001b[38;5;124m'\u001b[39m,\n\u001b[0;32m     17\u001b[0m                                     metrics \u001b[38;5;241m=\u001b[39m {\u001b[38;5;124m'\u001b[39m\u001b[38;5;124maccuracy\u001b[39m\u001b[38;5;124m'\u001b[39m : metrics[\u001b[38;5;124m'\u001b[39m\u001b[38;5;124maccuracy\u001b[39m\u001b[38;5;124m'\u001b[39m]},\n\u001b[1;32m   (...)\u001b[0m\n\u001b[0;32m     20\u001b[0m                                     description \u001b[38;5;241m=\u001b[39m \u001b[38;5;124m'\u001b[39m\u001b[38;5;124mBank note authenticator\u001b[39m\u001b[38;5;124m'\u001b[39m\n\u001b[0;32m     21\u001b[0m )\n\u001b[1;32m---> 23\u001b[0m \u001b[43mbank_note_model\u001b[49m\u001b[38;5;241;43m.\u001b[39;49m\u001b[43msave\u001b[49m\u001b[43m(\u001b[49m\u001b[43mmodel_dir\u001b[49m\u001b[43m)\u001b[49m\n",
      "File \u001b[1;32mc:\\users\\hp\\python\\python390\\lib\\site-packages\\hsml\\model.py:88\u001b[0m, in \u001b[0;36mModel.save\u001b[1;34m(self, model_path, await_registration)\u001b[0m\n\u001b[0;32m     86\u001b[0m \u001b[38;5;28;01mdef\u001b[39;00m \u001b[38;5;21msave\u001b[39m(\u001b[38;5;28mself\u001b[39m, model_path, await_registration\u001b[38;5;241m=\u001b[39m\u001b[38;5;241m480\u001b[39m):\n\u001b[0;32m     87\u001b[0m \u001b[38;5;250m    \u001b[39m\u001b[38;5;124;03m\"\"\"Persist this model including model files and metadata to the model registry.\"\"\"\u001b[39;00m\n\u001b[1;32m---> 88\u001b[0m     \u001b[38;5;28;01mreturn\u001b[39;00m \u001b[38;5;28;43mself\u001b[39;49m\u001b[38;5;241;43m.\u001b[39;49m\u001b[43m_model_engine\u001b[49m\u001b[38;5;241;43m.\u001b[39;49m\u001b[43msave\u001b[49m\u001b[43m(\u001b[49m\n\u001b[0;32m     89\u001b[0m \u001b[43m        \u001b[49m\u001b[38;5;28;43mself\u001b[39;49m\u001b[43m,\u001b[49m\u001b[43m \u001b[49m\u001b[43mmodel_path\u001b[49m\u001b[43m,\u001b[49m\u001b[43m \u001b[49m\u001b[43mawait_registration\u001b[49m\u001b[38;5;241;43m=\u001b[39;49m\u001b[43mawait_registration\u001b[49m\n\u001b[0;32m     90\u001b[0m \u001b[43m    \u001b[49m\u001b[43m)\u001b[49m\n",
      "File \u001b[1;32mc:\\users\\hp\\python\\python390\\lib\\site-packages\\hsml\\engine\\model_engine.py:195\u001b[0m, in \u001b[0;36mModelEngine.save\u001b[1;34m(self, model_instance, model_path, await_registration)\u001b[0m\n\u001b[0;32m    192\u001b[0m \u001b[38;5;28;01mif\u001b[39;00m \u001b[38;5;129;01mnot\u001b[39;00m \u001b[38;5;28mself\u001b[39m\u001b[38;5;241m.\u001b[39m_dataset_api\u001b[38;5;241m.\u001b[39mpath_exists(dataset_model_name_path):\n\u001b[0;32m    193\u001b[0m     \u001b[38;5;28mself\u001b[39m\u001b[38;5;241m.\u001b[39m_dataset_api\u001b[38;5;241m.\u001b[39mmkdir(dataset_model_name_path)\n\u001b[1;32m--> 195\u001b[0m model_instance \u001b[38;5;241m=\u001b[39m \u001b[38;5;28;43mself\u001b[39;49m\u001b[38;5;241;43m.\u001b[39;49m\u001b[43m_set_model_version\u001b[49m\u001b[43m(\u001b[49m\n\u001b[0;32m    196\u001b[0m \u001b[43m    \u001b[49m\u001b[43mmodel_instance\u001b[49m\u001b[43m,\u001b[49m\u001b[43m \u001b[49m\u001b[43mdataset_models_root_path\u001b[49m\u001b[43m,\u001b[49m\u001b[43m \u001b[49m\u001b[43mdataset_model_name_path\u001b[49m\n\u001b[0;32m    197\u001b[0m \u001b[43m\u001b[49m\u001b[43m)\u001b[49m\n\u001b[0;32m    199\u001b[0m \u001b[38;5;66;03m# Attach model summary xattr to /Models/{model_instance._name}/{model_instance._version}\u001b[39;00m\n\u001b[0;32m    200\u001b[0m model_query_params \u001b[38;5;241m=\u001b[39m {}\n",
      "File \u001b[1;32mc:\\users\\hp\\python\\python390\\lib\\site-packages\\hsml\\engine\\model_engine.py:154\u001b[0m, in \u001b[0;36mModelEngine._set_model_version\u001b[1;34m(self, model_instance, dataset_models_root_path, dataset_model_path)\u001b[0m\n\u001b[0;32m    145\u001b[0m     model_instance\u001b[38;5;241m.\u001b[39m_version \u001b[38;5;241m=\u001b[39m current_highest_version \u001b[38;5;241m+\u001b[39m \u001b[38;5;241m1\u001b[39m\n\u001b[0;32m    147\u001b[0m \u001b[38;5;28;01melif\u001b[39;00m \u001b[38;5;28mself\u001b[39m\u001b[38;5;241m.\u001b[39m_dataset_api\u001b[38;5;241m.\u001b[39mpath_exists(\n\u001b[0;32m    148\u001b[0m     dataset_models_root_path\n\u001b[0;32m    149\u001b[0m     \u001b[38;5;241m+\u001b[39m \u001b[38;5;124m\"\u001b[39m\u001b[38;5;124m/\u001b[39m\u001b[38;5;124m\"\u001b[39m\n\u001b[1;32m   (...)\u001b[0m\n\u001b[0;32m    152\u001b[0m     \u001b[38;5;241m+\u001b[39m \u001b[38;5;28mstr\u001b[39m(model_instance\u001b[38;5;241m.\u001b[39m_version)\n\u001b[0;32m    153\u001b[0m ):\n\u001b[1;32m--> 154\u001b[0m     \u001b[38;5;28;01mraise\u001b[39;00m ModelRegistryException(\n\u001b[0;32m    155\u001b[0m         \u001b[38;5;124m\"\u001b[39m\u001b[38;5;124mModel with name \u001b[39m\u001b[38;5;132;01m{}\u001b[39;00m\u001b[38;5;124m and version \u001b[39m\u001b[38;5;132;01m{}\u001b[39;00m\u001b[38;5;124m already exists\u001b[39m\u001b[38;5;124m\"\u001b[39m\u001b[38;5;241m.\u001b[39mformat(\n\u001b[0;32m    156\u001b[0m             model_instance\u001b[38;5;241m.\u001b[39m_name, model_instance\u001b[38;5;241m.\u001b[39m_version\n\u001b[0;32m    157\u001b[0m         )\n\u001b[0;32m    158\u001b[0m     )\n\u001b[0;32m    159\u001b[0m \u001b[38;5;28;01mreturn\u001b[39;00m model_instance\n",
      "\u001b[1;31mModelRegistryException\u001b[0m: Model with name bank_note and version 1 already exists"
     ]
    }
   ],
   "source": [
    "project = hopsworks.login()\n",
    "mr = project.get_model_registry()\n",
    "\n",
    "model_dir = 'bank_note_model'\n",
    "if os.path.isdir(model_dir) == False:\n",
    "    os.mkdir(model_dir)\n",
    "joblib.dump(xgb_cls, model_dir + '/bank_note_model.pkl')\n",
    "shutil.copyfile('assets/confusion_matrix.png', model_dir + '/confusion_matrix.png')\n",
    "\n",
    "input_example = X_train.sample()\n",
    "input_schema = Schema(X_train)\n",
    "output_schema = Schema(y_train)\n",
    "model_schema = ModelSchema(input_schema, output_schema)\n",
    "\n",
    "bank_note_model = mr.python.create_model(version=1,\n",
    "                                    name = 'bank_note',\n",
    "                                    metrics = {'accuracy' : metrics['accuracy']},\n",
    "                                    model_schema = model_schema,\n",
    "                                    input_example = input_example,\n",
    "                                    description = 'Bank note authenticator'\n",
    ")\n",
    "\n",
    "bank_note_model.save(model_dir)"
   ]
  },
  {
   "cell_type": "code",
   "execution_count": null,
   "id": "5ae28cd4",
   "metadata": {},
   "outputs": [],
   "source": []
  }
 ],
 "metadata": {
  "kernelspec": {
   "display_name": "Python 3 (ipykernel)",
   "language": "python",
   "name": "python3"
  },
  "language_info": {
   "codemirror_mode": {
    "name": "ipython",
    "version": 3
   },
   "file_extension": ".py",
   "mimetype": "text/x-python",
   "name": "python",
   "nbconvert_exporter": "python",
   "pygments_lexer": "ipython3",
   "version": "3.9.0"
  }
 },
 "nbformat": 4,
 "nbformat_minor": 5
}
