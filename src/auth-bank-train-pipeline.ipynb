{
 "cells": [
  {
   "cell_type": "code",
   "execution_count": 1,
   "id": "b027ff4a",
   "metadata": {
    "scrolled": true
   },
   "outputs": [],
   "source": [
    "import pandas as pd\n",
    "import numpy as np\n",
    "import seaborn as sns\n",
    "import matplotlib.pyplot as plt\n",
    "import hopsworks\n",
    "import os\n",
    "import joblib\n",
    "from hsml.schema import Schema\n",
    "from hsml.model_schema import ModelSchema\n",
    "import shutil\n",
    "from sklearn.model_selection import train_test_split as tts, StratifiedKFold\n",
    "from xgboost import XGBClassifier\n",
    "from sklearn.metrics import accuracy_score, roc_auc_score, classification_report, confusion_matrix, roc_curve, auc"
   ]
  },
  {
   "cell_type": "code",
   "execution_count": 11,
   "id": "4d8f33cb",
   "metadata": {},
   "outputs": [
    {
     "data": {
      "text/plain": [
       "'C:\\\\Users\\\\HP\\\\python_folder\\\\serverless-ml-projects\\\\Authenticating-Bank-Notes-as-a-Serverless-ML-System\\\\src\\\\..\\\\assets'"
      ]
     },
     "execution_count": 11,
     "metadata": {},
     "output_type": "execute_result"
    }
   ],
   "source": [
    "script_dir = os.getcwd()\n",
    "assets_dir = os.path.join(script_dir, '..', 'assets')\n",
    "assets_dir"
   ]
  },
  {
   "cell_type": "code",
   "execution_count": 2,
   "id": "32b35e7d",
   "metadata": {},
   "outputs": [
    {
     "name": "stdout",
     "output_type": "stream",
     "text": [
      "Connected. Call `.close()` to terminate connection gracefully.\n",
      "\n",
      "Logged in to project, explore it here https://c.app.hopsworks.ai:443/p/39062\n",
      "Connected. Call `.close()` to terminate connection gracefully.\n"
     ]
    }
   ],
   "source": [
    "proj = hopsworks.login()\n",
    "fs = proj.get_feature_store()\n",
    "\n",
    "try:\n",
    "    feature_view = fs.get_feature_view(name='bank_notes_dataframe', version=1)\n",
    "except:\n",
    "    bank_auth_fg = fs.get_feature_group(name='bank_notes_dataframe', version=1)\n",
    "    query = bank_auth_fg.select_all()\n",
    "    feature_view = fs.create_feature_view(name='bank_notes_dataframe',\n",
    "                                         version = 1,\n",
    "                                         description = 'Read from bank-note dataset',\n",
    "                                         labels = ['output'],\n",
    "                                         query = query)"
   ]
  },
  {
   "cell_type": "code",
   "execution_count": 3,
   "id": "098d5bc1",
   "metadata": {
    "scrolled": true
   },
   "outputs": [
    {
     "name": "stdout",
     "output_type": "stream",
     "text": [
      "2023-05-05 17:45:23,146 INFO: USE `bwhiz_featurestore`\n",
      "2023-05-05 17:45:23,926 INFO: SELECT `fg0`.`variance` `variance`, `fg0`.`skewness` `skewness`, `fg0`.`curtosis` `curtosis`, `fg0`.`entropy` `entropy`, `fg0`.`output` `output`\n",
      "FROM `bwhiz_featurestore`.`bank_notes_dataframe_1` `fg0`\n"
     ]
    },
    {
     "name": "stderr",
     "output_type": "stream",
     "text": [
      "UserWarning: pandas only supports SQLAlchemy connectable (engine/connection) or database string URI or sqlite3 DBAPI2 connection. Other DBAPI2 objects are not tested. Please consider using SQLAlchemy.\n",
      "VersionWarning: Incremented version to `2`.\n"
     ]
    }
   ],
   "source": [
    "X_train, X_test, y_train, y_test = feature_view.train_test_split(test_size = 0.3)"
   ]
  },
  {
   "cell_type": "code",
   "execution_count": 4,
   "id": "4a65929d",
   "metadata": {},
   "outputs": [],
   "source": [
    "X_train.reset_index(drop=True, inplace=True)\n",
    "X_test.reset_index(drop=True, inplace=True)\n",
    "y_train.reset_index(drop=True, inplace=True)\n",
    "y_test.reset_index(drop=True, inplace=True)"
   ]
  },
  {
   "cell_type": "code",
   "execution_count": 5,
   "id": "58db6533",
   "metadata": {},
   "outputs": [
    {
     "name": "stdout",
     "output_type": "stream",
     "text": [
      "The Accuracy is [0.9947643979057592, 0.9894736842105263, 0.9736842105263158, 0.9842105263157894, 0.9894736842105263]\n",
      "The ROC is [0.9997780244173141, 0.9991036414565827, 0.9900280112044818, 0.9992156862745097, 0.9994384546271339]\n",
      "Mean Accuracy is 0.9863\n",
      "Mean ROC is: 0.9975\n"
     ]
    }
   ],
   "source": [
    "xgb_cls = XGBClassifier()\n",
    "skf = StratifiedKFold(n_splits=5, shuffle=True, random_state=0)\n",
    "\n",
    "acc = []\n",
    "roc = []\n",
    "for train_idx, val_idx in skf.split(X_train, y_train):\n",
    "    X_train_fold, X_val_fold = X_train.loc[train_idx], X_train.loc[val_idx]\n",
    "    y_train_fold, y_val_fold = y_train.loc[train_idx], y_train.loc[val_idx] \n",
    "    xgb_cls.fit(X_train_fold, y_train_fold)\n",
    "    y_pred = xgb_cls.predict(X_val_fold)\n",
    "    y_prob = xgb_cls.predict_proba(X_val_fold)\n",
    "    acc_score = accuracy_score(y_val_fold, y_pred)\n",
    "    roc_score = roc_auc_score(y_val_fold, y_prob[:,1])\n",
    "    acc.append(acc_score)\n",
    "    roc.append(roc_score)\n",
    "print(f'The Accuracy is {acc}')\n",
    "print(f'The ROC is {roc}')\n",
    "print(f'Mean Accuracy is {np.mean(acc):.4f}')\n",
    "print(f'Mean ROC is: {np.mean(roc):.4f}')"
   ]
  },
  {
   "cell_type": "code",
   "execution_count": 6,
   "id": "1e71c7af",
   "metadata": {},
   "outputs": [],
   "source": [
    "prediction = xgb_cls.predict(X_test)"
   ]
  },
  {
   "cell_type": "code",
   "execution_count": 7,
   "id": "a8ad2369",
   "metadata": {
    "scrolled": true
   },
   "outputs": [
    {
     "name": "stdout",
     "output_type": "stream",
     "text": [
      "{'0': {'precision': 1.0, 'recall': 0.9907407407407407, 'f1-score': 0.9953488372093023, 'support': 216}, '1': {'precision': 0.9896907216494846, 'recall': 1.0, 'f1-score': 0.9948186528497409, 'support': 192}, 'accuracy': 0.9950980392156863, 'macro avg': {'precision': 0.9948453608247423, 'recall': 0.9953703703703703, 'f1-score': 0.9950837450295216, 'support': 408}, 'weighted avg': {'precision': 0.9951485748938751, 'recall': 0.9950980392156863, 'f1-score': 0.9950993386871557, 'support': 408}}\n"
     ]
    }
   ],
   "source": [
    "metrics = classification_report(y_test, prediction,output_dict=True)\n",
    "print(metrics)"
   ]
  },
  {
   "cell_type": "code",
   "execution_count": 8,
   "id": "b6994771",
   "metadata": {
    "scrolled": false
   },
   "outputs": [
    {
     "name": "stderr",
     "output_type": "stream",
     "text": [
      "UserWarning: Matplotlib is currently using module://matplotlib_inline.backend_inline, which is a non-GUI backend, so cannot show the figure.\n"
     ]
    },
    {
     "data": {
      "image/png": "[encoded data removed]",
      "text/plain": [
       "<Figure size 640x480 with 1 Axes>"
      ]
     },
     "metadata": {},
     "output_type": "display_data"
    }
   ],
   "source": [
    "cm = sns.heatmap(confusion_matrix(y_test, prediction), annot=True, fmt='',\n",
    "            linecolor='k',linewidths=1,cmap='Blues',cbar=False)\n",
    "\n",
    "fig = cm.get_figure()\n",
    "#fig.savefig('assets/confusion_matrix.png')\n",
    "fig.show();"
   ]
  },
  {
   "cell_type": "code",
   "execution_count": 9,
   "id": "0505b290",
   "metadata": {},
   "outputs": [],
   "source": [
    "fpr, tpr, _ = roc_curve(y_test, prediction)\n",
    "roc_auc = auc(fpr, tpr)"
   ]
  },
  {
   "cell_type": "code",
   "execution_count": 12,
   "id": "44dcf70e",
   "metadata": {},
   "outputs": [],
   "source": [
    "if not os.path.exists(assets_dir):\n",
    "    os.makedirs(assets_dir)"
   ]
  },
  {
   "cell_type": "code",
   "execution_count": 15,
   "id": "c2f7e45b",
   "metadata": {},
   "outputs": [
    {
     "data": {
      "image/png": "[encoded data removed]",
      "text/plain": [
       "<Figure size 640x480 with 1 Axes>"
      ]
     },
     "metadata": {},
     "output_type": "display_data"
    }
   ],
   "source": [
    "plt.figure()\n",
    "lw = 2\n",
    "plt.plot(fpr, tpr, color='darkorange',\n",
    "         lw=lw, label='ROC curve (area = %0.2f)' % roc_auc)\n",
    "plt.plot([0, 1], [0, 1], color='navy', lw=lw, linestyle='--')\n",
    "plt.xlim([0.0, 1.0])\n",
    "plt.ylim([0.0, 1.05])\n",
    "plt.xlabel('False Positive Rate')\n",
    "plt.ylabel('True Positive Rate')\n",
    "plt.title('Receiver operating characteristic curve')\n",
    "plt.legend(loc=\"lower right\")\n",
    "plt.savefig(os.path.join(assets_dir, 'auc_roc_curve.png'))"
   ]
  },
  {
   "cell_type": "markdown",
   "id": "41c078a9",
   "metadata": {},
   "source": [
    "### Registering the Model with Hopsworks Model Registry"
   ]
  },
  {
   "cell_type": "code",
   "execution_count": 31,
   "id": "f9c0c285",
   "metadata": {},
   "outputs": [
    {
     "name": "stdout",
     "output_type": "stream",
     "text": [
      "Connection closed.\n",
      "Connected. Call `.close()` to terminate connection gracefully.\n",
      "\n",
      "Logged in to project, explore it here https://c.app.hopsworks.ai:443/p/39062\n",
      "Connected. Call `.close()` to terminate connection gracefully.\n"
     ]
    },
    {
     "ename": "ModelRegistryException",
     "evalue": "Model with name bank_note and version 1 already exists",
     "output_type": "error",
     "traceback": [
      "\u001b[1;31m---------------------------------------------------------------------------\u001b[0m",
      "\u001b[1;31mModelRegistryException\u001b[0m                    Traceback (most recent call last)",
      "Cell \u001b[1;32mIn[31], line 23\u001b[0m\n\u001b[0;32m     13\u001b[0m model_schema \u001b[38;5;241m=\u001b[39m ModelSchema(input_schema, output_schema)\n\u001b[0;32m     15\u001b[0m bank_note_model \u001b[38;5;241m=\u001b[39m mr\u001b[38;5;241m.\u001b[39mpython\u001b[38;5;241m.\u001b[39mcreate_model(version\u001b[38;5;241m=\u001b[39m\u001b[38;5;241m1\u001b[39m,\n\u001b[0;32m     16\u001b[0m                                     name \u001b[38;5;241m=\u001b[39m \u001b[38;5;124m'\u001b[39m\u001b[38;5;124mbank_note\u001b[39m\u001b[38;5;124m'\u001b[39m,\n\u001b[0;32m     17\u001b[0m                                     metrics \u001b[38;5;241m=\u001b[39m {\u001b[38;5;124m'\u001b[39m\u001b[38;5;124maccuracy\u001b[39m\u001b[38;5;124m'\u001b[39m : metrics[\u001b[38;5;124m'\u001b[39m\u001b[38;5;124maccuracy\u001b[39m\u001b[38;5;124m'\u001b[39m]},\n\u001b[1;32m   (...)\u001b[0m\n\u001b[0;32m     20\u001b[0m                                     description \u001b[38;5;241m=\u001b[39m \u001b[38;5;124m'\u001b[39m\u001b[38;5;124mBank note authenticator\u001b[39m\u001b[38;5;124m'\u001b[39m\n\u001b[0;32m     21\u001b[0m )\n\u001b[1;32m---> 23\u001b[0m \u001b[43mbank_note_model\u001b[49m\u001b[38;5;241;43m.\u001b[39;49m\u001b[43msave\u001b[49m\u001b[43m(\u001b[49m\u001b[43mmodel_dir\u001b[49m\u001b[43m)\u001b[49m\n",
      "File \u001b[1;32mc:\\users\\hp\\python\\python390\\lib\\site-packages\\hsml\\model.py:88\u001b[0m, in \u001b[0;36mModel.save\u001b[1;34m(self, model_path, await_registration)\u001b[0m\n\u001b[0;32m     86\u001b[0m \u001b[38;5;28;01mdef\u001b[39;00m \u001b[38;5;21msave\u001b[39m(\u001b[38;5;28mself\u001b[39m, model_path, await_registration\u001b[38;5;241m=\u001b[39m\u001b[38;5;241m480\u001b[39m):\n\u001b[0;32m     87\u001b[0m \u001b[38;5;250m    \u001b[39m\u001b[38;5;124;03m\"\"\"Persist this model including model files and metadata to the model registry.\"\"\"\u001b[39;00m\n\u001b[1;32m---> 88\u001b[0m     \u001b[38;5;28;01mreturn\u001b[39;00m \u001b[38;5;28;43mself\u001b[39;49m\u001b[38;5;241;43m.\u001b[39;49m\u001b[43m_model_engine\u001b[49m\u001b[38;5;241;43m.\u001b[39;49m\u001b[43msave\u001b[49m\u001b[43m(\u001b[49m\n\u001b[0;32m     89\u001b[0m \u001b[43m        \u001b[49m\u001b[38;5;28;43mself\u001b[39;49m\u001b[43m,\u001b[49m\u001b[43m \u001b[49m\u001b[43mmodel_path\u001b[49m\u001b[43m,\u001b[49m\u001b[43m \u001b[49m\u001b[43mawait_registration\u001b[49m\u001b[38;5;241;43m=\u001b[39;49m\u001b[43mawait_registration\u001b[49m\n\u001b[0;32m     90\u001b[0m \u001b[43m    \u001b[49m\u001b[43m)\u001b[49m\n",
      "File \u001b[1;32mc:\\users\\hp\\python\\python390\\lib\\site-packages\\hsml\\engine\\model_engine.py:195\u001b[0m, in \u001b[0;36mModelEngine.save\u001b[1;34m(self, model_instance, model_path, await_registration)\u001b[0m\n\u001b[0;32m    192\u001b[0m \u001b[38;5;28;01mif\u001b[39;00m \u001b[38;5;129;01mnot\u001b[39;00m \u001b[38;5;28mself\u001b[39m\u001b[38;5;241m.\u001b[39m_dataset_api\u001b[38;5;241m.\u001b[39mpath_exists(dataset_model_name_path):\n\u001b[0;32m    193\u001b[0m     \u001b[38;5;28mself\u001b[39m\u001b[38;5;241m.\u001b[39m_dataset_api\u001b[38;5;241m.\u001b[39mmkdir(dataset_model_name_path)\n\u001b[1;32m--> 195\u001b[0m model_instance \u001b[38;5;241m=\u001b[39m \u001b[38;5;28;43mself\u001b[39;49m\u001b[38;5;241;43m.\u001b[39;49m\u001b[43m_set_model_version\u001b[49m\u001b[43m(\u001b[49m\n\u001b[0;32m    196\u001b[0m \u001b[43m    \u001b[49m\u001b[43mmodel_instance\u001b[49m\u001b[43m,\u001b[49m\u001b[43m \u001b[49m\u001b[43mdataset_models_root_path\u001b[49m\u001b[43m,\u001b[49m\u001b[43m \u001b[49m\u001b[43mdataset_model_name_path\u001b[49m\n\u001b[0;32m    197\u001b[0m \u001b[43m\u001b[49m\u001b[43m)\u001b[49m\n\u001b[0;32m    199\u001b[0m \u001b[38;5;66;03m# Attach model summary xattr to /Models/{model_instance._name}/{model_instance._version}\u001b[39;00m\n\u001b[0;32m    200\u001b[0m model_query_params \u001b[38;5;241m=\u001b[39m {}\n",
      "File \u001b[1;32mc:\\users\\hp\\python\\python390\\lib\\site-packages\\hsml\\engine\\model_engine.py:154\u001b[0m, in \u001b[0;36mModelEngine._set_model_version\u001b[1;34m(self, model_instance, dataset_models_root_path, dataset_model_path)\u001b[0m\n\u001b[0;32m    145\u001b[0m     model_instance\u001b[38;5;241m.\u001b[39m_version \u001b[38;5;241m=\u001b[39m current_highest_version \u001b[38;5;241m+\u001b[39m \u001b[38;5;241m1\u001b[39m\n\u001b[0;32m    147\u001b[0m \u001b[38;5;28;01melif\u001b[39;00m \u001b[38;5;28mself\u001b[39m\u001b[38;5;241m.\u001b[39m_dataset_api\u001b[38;5;241m.\u001b[39mpath_exists(\n\u001b[0;32m    148\u001b[0m     dataset_models_root_path\n\u001b[0;32m    149\u001b[0m     \u001b[38;5;241m+\u001b[39m \u001b[38;5;124m\"\u001b[39m\u001b[38;5;124m/\u001b[39m\u001b[38;5;124m\"\u001b[39m\n\u001b[1;32m   (...)\u001b[0m\n\u001b[0;32m    152\u001b[0m     \u001b[38;5;241m+\u001b[39m \u001b[38;5;28mstr\u001b[39m(model_instance\u001b[38;5;241m.\u001b[39m_version)\n\u001b[0;32m    153\u001b[0m ):\n\u001b[1;32m--> 154\u001b[0m     \u001b[38;5;28;01mraise\u001b[39;00m ModelRegistryException(\n\u001b[0;32m    155\u001b[0m         \u001b[38;5;124m\"\u001b[39m\u001b[38;5;124mModel with name \u001b[39m\u001b[38;5;132;01m{}\u001b[39;00m\u001b[38;5;124m and version \u001b[39m\u001b[38;5;132;01m{}\u001b[39;00m\u001b[38;5;124m already exists\u001b[39m\u001b[38;5;124m\"\u001b[39m\u001b[38;5;241m.\u001b[39mformat(\n\u001b[0;32m    156\u001b[0m             model_instance\u001b[38;5;241m.\u001b[39m_name, model_instance\u001b[38;5;241m.\u001b[39m_version\n\u001b[0;32m    157\u001b[0m         )\n\u001b[0;32m    158\u001b[0m     )\n\u001b[0;32m    159\u001b[0m \u001b[38;5;28;01mreturn\u001b[39;00m model_instance\n",
      "\u001b[1;31mModelRegistryException\u001b[0m: Model with name bank_note and version 1 already exists"
     ]
    }
   ],
   "source": [
    "project = hopsworks.login()\n",
    "mr = project.get_model_registry()\n",
    "\n",
    "model_dir = 'bank_note_model'\n",
    "if os.path.isdir(model_dir) == False:\n",
    "    os.mkdir(model_dir)\n",
    "joblib.dump(xgb_cls, model_dir + '/bank_note_model.pkl')\n",
    "shutil.copyfile('assets/confusion_matrix.png', model_dir + '/confusion_matrix.png')\n",
    "\n",
    "input_example = X_train.sample()\n",
    "input_schema = Schema(X_train)\n",
    "output_schema = Schema(y_train)\n",
    "model_schema = ModelSchema(input_schema, output_schema)\n",
    "\n",
    "bank_note_model = mr.python.create_model(version=1,\n",
    "                                    name = 'bank_note',\n",
    "                                    metrics = {'accuracy' : metrics['accuracy']},\n",
    "                                    model_schema = model_schema,\n",
    "                                    input_example = input_example,\n",
    "                                    description = 'Bank note authenticator'\n",
    ")\n",
    "\n",
    "bank_note_model.save(model_dir)"
   ]
  },
  {
   "cell_type": "code",
   "execution_count": null,
   "id": "5ae28cd4",
   "metadata": {},
   "outputs": [],
   "source": []
  }
 ],
 "metadata": {
  "kernelspec": {
   "display_name": "Python 3 (ipykernel)",
   "language": "python",
   "name": "python3"
  },
  "language_info": {
   "codemirror_mode": {
    "name": "ipython",
    "version": 3
   },
   "file_extension": ".py",
   "mimetype": "text/x-python",
   "name": "python",
   "nbconvert_exporter": "python",
   "pygments_lexer": "ipython3",
   "version": "3.9.0"
  }
 },
 "nbformat": 4,
 "nbformat_minor": 5
}
