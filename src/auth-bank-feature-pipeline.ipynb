{
 "cells": [
  {
   "cell_type": "code",
   "execution_count": 1,
   "id": "fffd4c46",
   "metadata": {},
   "outputs": [],
   "source": [
    "import random \n",
    "import pandas as pd\n",
    "import hopsworks"
   ]
  },
  {
   "cell_type": "code",
   "execution_count": 2,
   "id": "e274767f",
   "metadata": {},
   "outputs": [],
   "source": [
    "BACKFILL = False # if True then we intend to Backfill with a .csv file"
   ]
  },
  {
   "cell_type": "markdown",
   "id": "c3ca36b4",
   "metadata": {},
   "source": [
    "### Generating Synthetic data:"
   ]
  },
  {
   "cell_type": "code",
   "execution_count": 3,
   "id": "81407c7a",
   "metadata": {},
   "outputs": [],
   "source": [
    "def generate_bank_note(variance_max, variance_min, skewness_max, skewness_min,\n",
    "                      curtosis_max, curtosis_min, entropy_max, entropy_min, class_):\n",
    "    \n",
    "    \"\"\"\n",
    "    Returns a single bank note with specs within the ranges specified\n",
    "    \"\"\"\n",
    "    df = pd.DataFrame({\n",
    "        'variance' : [random.uniform(variance_max, variance_min)],\n",
    "        'skewness' : [random.uniform(skewness_max, skewness_min)],\n",
    "        'curtosis' : [random.uniform(curtosis_max, curtosis_min)],\n",
    "        'entropy' : [random.uniform(entropy_max, entropy_min)],\n",
    "        'output' : [class_]\n",
    "    })\n",
    "    \n",
    "    \n",
    "    return df\n",
    "\n",
    "def get_random_bank_note():\n",
    "    \n",
    "    \"\"\"\n",
    "    Returns a DataFrame containing one random bank note\n",
    "    \"\"\"\n",
    "    class_1 = generate_bank_note(6,-7,12,-13,17,-5,2,-8,1)\n",
    "    class_0 = generate_bank_note(5.5,-5.5,10,-10.5,15.5,-4.5,2.3,-7.35,0)\n",
    "    \n",
    "    random_num = random.uniform(0,2)\n",
    "    if random_num >= 1:\n",
    "        df = class_1\n",
    "    else:\n",
    "        df = class_0\n",
    "        \n",
    "    return df"
   ]
  },
  {
   "cell_type": "code",
   "execution_count": 4,
   "id": "db820662",
   "metadata": {},
   "outputs": [],
   "source": [
    "if BACKFILL == True:\n",
    "    df = pd.read_csv('https://archive.ics.uci.edu/ml/machine-learning-databases/00267/data_banknote_authentication.txt',header=None,\n",
    "                names = ['variance', 'skewness', 'curtosis', 'entropy', 'output'])\n",
    "else:\n",
    "    df = get_random_bank_note()"
   ]
  },
  {
   "cell_type": "code",
   "execution_count": 5,
   "id": "c89e2e04",
   "metadata": {
    "scrolled": true
   },
   "outputs": [
    {
     "data": {
      "text/html": [
       "<div>\n",
       "<style scoped>\n",
       "    .dataframe tbody tr th:only-of-type {\n",
       "        vertical-align: middle;\n",
       "    }\n",
       "\n",
       "    .dataframe tbody tr th {\n",
       "        vertical-align: top;\n",
       "    }\n",
       "\n",
       "    .dataframe thead th {\n",
       "        text-align: right;\n",
       "    }\n",
       "</style>\n",
       "<table border=\"1\" class=\"dataframe\">\n",
       "  <thead>\n",
       "    <tr style=\"text-align: right;\">\n",
       "      <th></th>\n",
       "      <th>variance</th>\n",
       "      <th>skewness</th>\n",
       "      <th>curtosis</th>\n",
       "      <th>entropy</th>\n",
       "      <th>output</th>\n",
       "    </tr>\n",
       "  </thead>\n",
       "  <tbody>\n",
       "    <tr>\n",
       "      <th>0</th>\n",
       "      <td>3.62160</td>\n",
       "      <td>8.66610</td>\n",
       "      <td>-2.8073</td>\n",
       "      <td>-0.44699</td>\n",
       "      <td>0</td>\n",
       "    </tr>\n",
       "    <tr>\n",
       "      <th>1</th>\n",
       "      <td>4.54590</td>\n",
       "      <td>8.16740</td>\n",
       "      <td>-2.4586</td>\n",
       "      <td>-1.46210</td>\n",
       "      <td>0</td>\n",
       "    </tr>\n",
       "    <tr>\n",
       "      <th>2</th>\n",
       "      <td>3.86600</td>\n",
       "      <td>-2.63830</td>\n",
       "      <td>1.9242</td>\n",
       "      <td>0.10645</td>\n",
       "      <td>0</td>\n",
       "    </tr>\n",
       "    <tr>\n",
       "      <th>3</th>\n",
       "      <td>3.45660</td>\n",
       "      <td>9.52280</td>\n",
       "      <td>-4.0112</td>\n",
       "      <td>-3.59440</td>\n",
       "      <td>0</td>\n",
       "    </tr>\n",
       "    <tr>\n",
       "      <th>4</th>\n",
       "      <td>0.32924</td>\n",
       "      <td>-4.45520</td>\n",
       "      <td>4.5718</td>\n",
       "      <td>-0.98880</td>\n",
       "      <td>0</td>\n",
       "    </tr>\n",
       "    <tr>\n",
       "      <th>...</th>\n",
       "      <td>...</td>\n",
       "      <td>...</td>\n",
       "      <td>...</td>\n",
       "      <td>...</td>\n",
       "      <td>...</td>\n",
       "    </tr>\n",
       "    <tr>\n",
       "      <th>1367</th>\n",
       "      <td>0.40614</td>\n",
       "      <td>1.34920</td>\n",
       "      <td>-1.4501</td>\n",
       "      <td>-0.55949</td>\n",
       "      <td>1</td>\n",
       "    </tr>\n",
       "    <tr>\n",
       "      <th>1368</th>\n",
       "      <td>-1.38870</td>\n",
       "      <td>-4.87730</td>\n",
       "      <td>6.4774</td>\n",
       "      <td>0.34179</td>\n",
       "      <td>1</td>\n",
       "    </tr>\n",
       "    <tr>\n",
       "      <th>1369</th>\n",
       "      <td>-3.75030</td>\n",
       "      <td>-13.45860</td>\n",
       "      <td>17.5932</td>\n",
       "      <td>-2.77710</td>\n",
       "      <td>1</td>\n",
       "    </tr>\n",
       "    <tr>\n",
       "      <th>1370</th>\n",
       "      <td>-3.56370</td>\n",
       "      <td>-8.38270</td>\n",
       "      <td>12.3930</td>\n",
       "      <td>-1.28230</td>\n",
       "      <td>1</td>\n",
       "    </tr>\n",
       "    <tr>\n",
       "      <th>1371</th>\n",
       "      <td>-2.54190</td>\n",
       "      <td>-0.65804</td>\n",
       "      <td>2.6842</td>\n",
       "      <td>1.19520</td>\n",
       "      <td>1</td>\n",
       "    </tr>\n",
       "  </tbody>\n",
       "</table>\n",
       "<p>1372 rows × 5 columns</p>\n",
       "</div>"
      ],
      "text/plain": [
       "      variance  skewness  curtosis  entropy  output\n",
       "0      3.62160   8.66610   -2.8073 -0.44699       0\n",
       "1      4.54590   8.16740   -2.4586 -1.46210       0\n",
       "2      3.86600  -2.63830    1.9242  0.10645       0\n",
       "3      3.45660   9.52280   -4.0112 -3.59440       0\n",
       "4      0.32924  -4.45520    4.5718 -0.98880       0\n",
       "...        ...       ...       ...      ...     ...\n",
       "1367   0.40614   1.34920   -1.4501 -0.55949       1\n",
       "1368  -1.38870  -4.87730    6.4774  0.34179       1\n",
       "1369  -3.75030 -13.45860   17.5932 -2.77710       1\n",
       "1370  -3.56370  -8.38270   12.3930 -1.28230       1\n",
       "1371  -2.54190  -0.65804    2.6842  1.19520       1\n",
       "\n",
       "[1372 rows x 5 columns]"
      ]
     },
     "execution_count": 5,
     "metadata": {},
     "output_type": "execute_result"
    }
   ],
   "source": [
    "df"
   ]
  },
  {
   "cell_type": "code",
   "execution_count": 6,
   "id": "80fbd7fb",
   "metadata": {
    "scrolled": true
   },
   "outputs": [
    {
     "name": "stdout",
     "output_type": "stream",
     "text": [
      "<class 'pandas.core.frame.DataFrame'>\n",
      "RangeIndex: 1372 entries, 0 to 1371\n",
      "Data columns (total 5 columns):\n",
      " #   Column    Non-Null Count  Dtype  \n",
      "---  ------    --------------  -----  \n",
      " 0   variance  1372 non-null   float64\n",
      " 1   skewness  1372 non-null   float64\n",
      " 2   curtosis  1372 non-null   float64\n",
      " 3   entropy   1372 non-null   float64\n",
      " 4   output    1372 non-null   int64  \n",
      "dtypes: float64(4), int64(1)\n",
      "memory usage: 53.7 KB\n"
     ]
    }
   ],
   "source": [
    "df.info()"
   ]
  },
  {
   "cell_type": "code",
   "execution_count": 7,
   "id": "f4387018",
   "metadata": {},
   "outputs": [
    {
     "data": {
      "text/plain": [
       "Index(['variance', 'skewness', 'curtosis', 'entropy', 'output'], dtype='object')"
      ]
     },
     "execution_count": 7,
     "metadata": {},
     "output_type": "execute_result"
    }
   ],
   "source": [
    "df.columns"
   ]
  },
  {
   "cell_type": "markdown",
   "id": "695392af",
   "metadata": {},
   "source": [
    "### Hopsworks Auth using API key:"
   ]
  },
  {
   "cell_type": "code",
   "execution_count": 8,
   "id": "21773d14",
   "metadata": {
    "scrolled": false
   },
   "outputs": [
    {
     "name": "stdout",
     "output_type": "stream",
     "text": [
      "Connected. Call `.close()` to terminate connection gracefully.\n",
      "\n",
      "Logged in to project, explore it here https://c.app.hopsworks.ai:443/p/39062\n",
      "Connected. Call `.close()` to terminate connection gracefully.\n"
     ]
    }
   ],
   "source": [
    "proj = hopsworks.login()\n",
    "fs = proj.get_feature_store()"
   ]
  },
  {
   "cell_type": "markdown",
   "id": "adc6e5f6",
   "metadata": {},
   "source": [
    "### Create and Write to a feature group - PK"
   ]
  },
  {
   "cell_type": "code",
   "execution_count": 9,
   "id": "6b1879b3",
   "metadata": {},
   "outputs": [
    {
     "name": "stdout",
     "output_type": "stream",
     "text": [
      "Feature Group created successfully, explore it at \n",
      "https://c.app.hopsworks.ai:443/p/39062/fs/38982/fg/41970\n"
     ]
    },
    {
     "data": {
      "application/vnd.jupyter.widget-view+json": {
       "model_id": "b8aa06489407422c981bd759ae047617",
       "version_major": 2,
       "version_minor": 0
      },
      "text/plain": [
       "Uploading Dataframe: 0.00% |          | Rows 0/1372 | Elapsed Time: 00:00 | Remaining Time: ?"
      ]
     },
     "metadata": {},
     "output_type": "display_data"
    },
    {
     "name": "stdout",
     "output_type": "stream",
     "text": [
      "Launching offline feature group backfill job...\n",
      "Backfill Job started successfully, you can follow the progress at \n",
      "https://c.app.hopsworks.ai/p/39062/jobs/named/bank_notes_dataframe_1_offline_fg_backfill/executions\n"
     ]
    },
    {
     "data": {
      "text/plain": [
       "(<hsfs.core.job.Job at 0x27c244f0220>, None)"
      ]
     },
     "execution_count": 9,
     "metadata": {},
     "output_type": "execute_result"
    }
   ],
   "source": [
    "bank_note_df = fs.get_or_create_feature_group(name = 'bank_notes_dataframe',\n",
    "                                             version = 1,\n",
    "                                             primary_key = ['variance', 'skewness', 'curtosis', 'entropy'],\n",
    "                                             description = 'Authenticating Bank Note dataset', )\n",
    "feature_cols = ['variance', 'skewness', 'curtosis', 'entropy', 'output']\n",
    "bank_note_df.insert(df[feature_cols])"
   ]
  },
  {
   "cell_type": "code",
   "execution_count": null,
   "id": "bec9be02",
   "metadata": {},
   "outputs": [],
   "source": []
  }
 ],
 "metadata": {
  "kernelspec": {
   "display_name": "Python 3 (ipykernel)",
   "language": "python",
   "name": "python3"
  },
  "language_info": {
   "codemirror_mode": {
    "name": "ipython",
    "version": 3
   },
   "file_extension": ".py",
   "mimetype": "text/x-python",
   "name": "python",
   "nbconvert_exporter": "python",
   "pygments_lexer": "ipython3",
   "version": "3.9.0"
  }
 },
 "nbformat": 4,
 "nbformat_minor": 5
}
