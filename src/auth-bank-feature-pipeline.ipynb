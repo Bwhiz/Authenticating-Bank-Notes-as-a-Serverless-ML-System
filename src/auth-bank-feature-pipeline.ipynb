{
 "cells": [
  {
   "cell_type": "code",
   "execution_count": 1,
   "id": "fffd4c46",
   "metadata": {},
   "outputs": [],
   "source": [
    "import random \n",
    "import pandas as pd\n",
    "import hopsworks"
   ]
  },
  {
   "cell_type": "code",
   "execution_count": 2,
   "id": "e274767f",
   "metadata": {},
   "outputs": [],
   "source": [
    "BACKFILL = False # if True then we intend to Backfill with a .csv file"
   ]
  },
  {
   "cell_type": "markdown",
   "id": "a17697dc",
   "metadata": {},
   "source": [
    "### Generating Synthetic data:"
   ]
  },
  {
   "cell_type": "code",
   "execution_count": 3,
   "id": "f5c75569",
   "metadata": {},
   "outputs": [],
   "source": [
    "def generate_bank_note(variance_max, variance_min, skewness_max, skewness_min,\n",
    "                      curtosis_max, curtosis_min, entropy_max, entropy_min, class_):\n",
    "    \n",
    "    \"\"\"\n",
    "    Returns a single bank note with specs within the ranges specified\n",
    "    \"\"\"\n",
    "    df = pd.DataFrame({\n",
    "        'variance' : [random.uniform(variance_max, variance_min)],\n",
    "        'skewness' : [random.uniform(skewness_max, skewness_min)],\n",
    "        'curtosis' : [random.uniform(curtosis_max, curtosis_min)],\n",
    "        'entropy' : [random.uniform(entropy_max, entropy_min)],\n",
    "        'output' : [class_]\n",
    "    })\n",
    "    \n",
    "    \n",
    "    return df\n",
    "\n",
    "def get_random_bank_note():\n",
    "    \n",
    "    \"\"\"\n",
    "    Returns a DataFrame containing one random bank note\n",
    "    \"\"\"\n",
    "    class_1 = generate_bank_note(6,-7,12,-13,17,-5,2,-8,1)\n",
    "    class_0 = generate_bank_note(5.5,-5.5,10,-10.5,15.5,-4.5,2.3,-7.35,0)\n",
    "    \n",
    "    random_num = random.uniform(0,2)\n",
    "    if random_num >= 1:\n",
    "        df = class_1\n",
    "    else:\n",
    "        df = class_0\n",
    "        \n",
    "    return df"
   ]
  },
  {
   "cell_type": "code",
   "execution_count": 4,
   "id": "f1fc82b7",
   "metadata": {},
   "outputs": [],
   "source": [
    "if BACKFILL == True:\n",
    "    df = pd.read_csv('https://archive.ics.uci.edu/ml/machine-learning-databases/00267/data_banknote_authentication.txt',header=None,\n",
    "                names = ['variance', 'skewness', 'curtosis', 'entropy', 'output'])\n",
    "else:\n",
    "    df = get_random_bank_note()"
   ]
  },
  {
   "cell_type": "code",
   "execution_count": 5,
   "id": "82c83e1c",
   "metadata": {
    "scrolled": true
   },
   "outputs": [
    {
     "data": {
      "text/html": [
       "<div>\n",
       "<style scoped>\n",
       "    .dataframe tbody tr th:only-of-type {\n",
       "        vertical-align: middle;\n",
       "    }\n",
       "\n",
       "    .dataframe tbody tr th {\n",
       "        vertical-align: top;\n",
       "    }\n",
       "\n",
       "    .dataframe thead th {\n",
       "        text-align: right;\n",
       "    }\n",
       "</style>\n",
       "<table border=\"1\" class=\"dataframe\">\n",
       "  <thead>\n",
       "    <tr style=\"text-align: right;\">\n",
       "      <th></th>\n",
       "      <th>variance</th>\n",
       "      <th>skewness</th>\n",
       "      <th>curtosis</th>\n",
       "      <th>entropy</th>\n",
       "      <th>output</th>\n",
       "    </tr>\n",
       "  </thead>\n",
       "  <tbody>\n",
       "    <tr>\n",
       "      <th>0</th>\n",
       "      <td>1.121676</td>\n",
       "      <td>-7.225372</td>\n",
       "      <td>12.23489</td>\n",
       "      <td>-1.145395</td>\n",
       "      <td>1</td>\n",
       "    </tr>\n",
       "  </tbody>\n",
       "</table>\n",
       "</div>"
      ],
      "text/plain": [
       "   variance  skewness  curtosis   entropy  output\n",
       "0  1.121676 -7.225372  12.23489 -1.145395       1"
      ]
     },
     "execution_count": 5,
     "metadata": {},
     "output_type": "execute_result"
    }
   ],
   "source": [
    "df"
   ]
  },
  {
   "cell_type": "code",
   "execution_count": 6,
   "id": "9077ff45",
   "metadata": {
    "scrolled": true
   },
   "outputs": [
    {
     "name": "stdout",
     "output_type": "stream",
     "text": [
      "<class 'pandas.core.frame.DataFrame'>\n",
      "RangeIndex: 1 entries, 0 to 0\n",
      "Data columns (total 5 columns):\n",
      " #   Column    Non-Null Count  Dtype  \n",
      "---  ------    --------------  -----  \n",
      " 0   variance  1 non-null      float64\n",
      " 1   skewness  1 non-null      float64\n",
      " 2   curtosis  1 non-null      float64\n",
      " 3   entropy   1 non-null      float64\n",
      " 4   output    1 non-null      int64  \n",
      "dtypes: float64(4), int64(1)\n",
      "memory usage: 168.0 bytes\n"
     ]
    }
   ],
   "source": [
    "df.info()"
   ]
  },
  {
   "cell_type": "code",
   "execution_count": 7,
   "id": "28c0a1c7",
   "metadata": {},
   "outputs": [
    {
     "data": {
      "text/plain": [
       "Index(['variance', 'skewness', 'curtosis', 'entropy', 'output'], dtype='object')"
      ]
     },
     "execution_count": 7,
     "metadata": {},
     "output_type": "execute_result"
    }
   ],
   "source": [
    "df.columns"
   ]
  },
  {
   "cell_type": "markdown",
   "id": "c59721d0",
   "metadata": {},
   "source": [
    "### Hopsworks Auth using API key:"
   ]
  },
  {
   "cell_type": "code",
   "execution_count": 8,
   "id": "04ea7960",
   "metadata": {
    "scrolled": false
   },
   "outputs": [
    {
     "name": "stdout",
     "output_type": "stream",
     "text": [
      "Connected. Call `.close()` to terminate connection gracefully.\n",
      "\n",
      "Logged in to project, explore it here https://c.app.hopsworks.ai:443/p/39062\n",
      "Connected. Call `.close()` to terminate connection gracefully.\n"
     ]
    }
   ],
   "source": [
    "proj = hopsworks.login()\n",
    "fs = proj.get_feature_store()"
   ]
  },
  {
   "cell_type": "markdown",
   "id": "1af41ed6",
   "metadata": {},
   "source": [
    "### Create and Write to a feature group - PK"
   ]
  },
  {
   "cell_type": "code",
   "execution_count": 9,
   "id": "8ce5a6b6",
   "metadata": {},
   "outputs": [
    {
     "data": {
      "application/vnd.jupyter.widget-view+json": {
       "model_id": "1fc3b1a6c0c9442fbeb9506fe331fea6",
       "version_major": 2,
       "version_minor": 0
      },
      "text/plain": [
       "Uploading Dataframe: 0.00% |          | Rows 0/1 | Elapsed Time: 00:00 | Remaining Time: ?"
      ]
     },
     "metadata": {},
     "output_type": "display_data"
    },
    {
     "name": "stdout",
     "output_type": "stream",
     "text": [
      "Launching offline feature group backfill job...\n",
      "Backfill Job started successfully, you can follow the progress at \n",
      "https://c.app.hopsworks.ai/p/39062/jobs/named/bank_notes_dataframe_1_offline_fg_backfill/executions\n"
     ]
    },
    {
     "data": {
      "text/plain": [
       "(<hsfs.core.job.Job at 0x2381943c3a0>, None)"
      ]
     },
     "execution_count": 9,
     "metadata": {},
     "output_type": "execute_result"
    }
   ],
   "source": [
    "bank_note_df = fs.get_or_create_feature_group(name = 'bank_notes_dataframe',\n",
    "                                             version = 1,\n",
    "                                             primary_key = ['variance', 'skewness', 'curtosis', 'entropy'],\n",
    "                                             description = 'Authenticating Bank Note dataset', )\n",
    "feature_cols = ['variance', 'skewness', 'curtosis', 'entropy', 'output']\n",
    "bank_note_df.insert(df[feature_cols])"
   ]
  },
  {
   "cell_type": "code",
   "execution_count": null,
   "id": "a2551c9c",
   "metadata": {},
   "outputs": [],
   "source": []
  }
 ],
 "metadata": {
  "kernelspec": {
   "display_name": "Python 3 (ipykernel)",
   "language": "python",
   "name": "python3"
  },
  "language_info": {
   "codemirror_mode": {
    "name": "ipython",
    "version": 3
   },
   "file_extension": ".py",
   "mimetype": "text/x-python",
   "name": "python",
   "nbconvert_exporter": "python",
   "pygments_lexer": "ipython3",
   "version": "3.9.0"
  }
 },
 "nbformat": 4,
 "nbformat_minor": 5
}
